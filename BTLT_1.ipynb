{
  "nbformat": 4,
  "nbformat_minor": 0,
  "metadata": {
    "colab": {
      "name": "BTLT_1.ipynb",
      "provenance": [],
      "authorship_tag": "ABX9TyMXAjP2fqi1ZJBW/Myr+bpX",
      "include_colab_link": true
    },
    "kernelspec": {
      "name": "python3",
      "display_name": "Python 3"
    }
  },
  "cells": [
    {
      "cell_type": "markdown",
      "metadata": {
        "id": "view-in-github",
        "colab_type": "text"
      },
      "source": [
        "<a href=\"https://colab.research.google.com/github/18520918/CS114.L11.KHCL/blob/master/BTLT_1.ipynb\" target=\"_parent\"><img src=\"https://colab.research.google.com/assets/colab-badge.svg\" alt=\"Open In Colab\"/></a>"
      ]
    },
    {
      "cell_type": "markdown",
      "metadata": {
        "id": "gumDAUfUzpvJ"
      },
      "source": [
        "# **Thang đo nhiệt độ KFC**\n",
        "Bình vừa mua xách tay một cái nhiệt kế hồng ngoại cực xịn cực chính xác chỉ mỗi tội nó hiển thị nhiệt độ theo thang đo độ F - Farenheit. Hãy giúp Bình đổi qua độ C - Celsius và độ K - Kelvin\n",
        "\n",
        "INPUT\n",
        ">Một con số - nhiệt độ theo thang F\n",
        "\n",
        "OUTPUT\n",
        ">Hai con số - nhiệt độ theo thang C và thang K\n",
        "\n",
        "VÍ DỤ<br>\n",
        "\n",
        "|INPUT|\tOUTPUT|\n",
        "|--|--|\n",
        "|658.4|348 621.15|\n",
        "|472.6 |244.778 517.928|\n",
        "\n"
      ]
    },
    {
      "cell_type": "code",
      "metadata": {
        "id": "LgeazeNH19H9",
        "outputId": "161bbf52-a472-4ae3-895c-deced4a9d7ab",
        "colab": {
          "base_uri": "https://localhost:8080/"
        }
      },
      "source": [
        "from decimal import *\n",
        "getcontext().prec = 6\n",
        "\n",
        "f = float(input())\n",
        "c = (f-32)/1.8\n",
        "if c == int(c):\n",
        "  c = int(c)\n",
        "k = c +273.15\n",
        "if k == int(k):\n",
        "  k = int(k)\n",
        "\n",
        "print(Decimal(c).normalize(),Decimal(k).normalize())"
      ],
      "execution_count": 1,
      "outputs": [
        {
          "output_type": "stream",
          "text": [
            "658.4\n",
            "348 621.15\n"
          ],
          "name": "stdout"
        }
      ]
    },
    {
      "cell_type": "markdown",
      "metadata": {
        "id": "UZaxs5YDz_ta"
      },
      "source": [
        "# **Độ đo áp suất SI/PSI**\n",
        "Tìm ra áp suất chất lỏng/khí và cách đo đạt chúng là một vấn đề nghiên cứu vật lý thực nghiệm từng làm đau đầu nhiều nhà khoa học thời trung cổ. Đã có nhiều nhà khoa học khác nhau đề xuất các thang đo khác nhau. Tuy nhiên ngày nay một đơn vị đo áp suất phổ thông mà dễ hiểu là tính lực tác động (theo khối lượng) chia cho diện tích. Khổ nổi trong hệ đo lường quốc tế (SI) và hệ đo Imperial phổ biến ở Mỹ người ta đo khối lượng và áp suất bằng cách đơn vị khác nhau. Bạn Bình vừa mua một con mô-tô phân khối lớn hàng nhập nguyên chiếc từ Mỹ về, tài liệu hướng dẫn của xe ghi áp suất phù hợp khi bơm xe bằng đơn vị PSI (Pound / square inches - 1 pound lực trên một inch vuông). Còn ống bơm của Bình tích hợp đồng hồ đo áp suất bằng đơn vị kg/cm2 (1 kilogram lực trên một centimét vuông).\n",
        "\n",
        "Biết: 1 pound = 0.453592 kg\n",
        "\n",
        "và 1 inch = 2,54 cm\n",
        "\n",
        "Viết công thức giúp Bình đổi PSI sang kg/cm2\n",
        "\n",
        "INPUT\n",
        ">Một con số duy nhất theo đơn vị PSI\n",
        "\n",
        "OUTPUT\n",
        ">Một con số ương ứng theo đơn vị kg/cm2\n",
        "\n",
        "VÍ DỤ\n",
        "\n",
        "|INPUT|\tOUTPUT|\n",
        "|--|--|\n",
        "|15|\t1.0546|\n",
        "|2018|\t141.879|"
      ]
    },
    {
      "cell_type": "code",
      "metadata": {
        "id": "lu2EwThA2D50",
        "outputId": "461728c1-8b05-499e-8dd4-a55923a427ec",
        "colab": {
          "base_uri": "https://localhost:8080/"
        }
      },
      "source": [
        "from decimal import *\n",
        "getcontext().prec = 6\n",
        "\n",
        "a = float(input())\n",
        "c = 0.453592/(2.54**2)\n",
        "b = c*a\n",
        "\n",
        "print(Decimal(b).normalize())"
      ],
      "execution_count": 2,
      "outputs": [
        {
          "output_type": "stream",
          "text": [
            "15\n",
            "1.0546\n"
          ],
          "name": "stdout"
        }
      ]
    },
    {
      "cell_type": "markdown",
      "metadata": {
        "id": "P8HTZ_n10KL4"
      },
      "source": [
        "# **Gà và Chó**\n",
        "\n",
        "Vừa gà vừa chó\n",
        "\n",
        "Bó lại cho tròn\n",
        "\n",
        "xxx con\n",
        "\n",
        "yy chân chẵn\n",
        "\n",
        "Hãy xác định số con gà và số con chó thỏa mãn yêu cầu.\n",
        "\n",
        "Dữ liệu: \n",
        "> Vào từ thiết bị nhập chuẩn gồm 1 dòng ghi 2 số nguyên xxx và yy (2≤ xxx, yy ≤ 109)\n",
        "\n",
        "Kết quả: \n",
        ">Đưa ra thiết bị xuất chuẩn một dòng 2 số nguyên số gà và số chó tìm được.\n",
        "\n",
        "Dữ liệu luôn bảo đảm có kết quả.\n",
        "\n",
        "Ví dụ:\n",
        "\n",
        "|INPUT|OUTPUT\n",
        "|--|--|\n",
        "|36 100|22 14|\n",
        "\n"
      ]
    },
    {
      "cell_type": "code",
      "metadata": {
        "id": "DLCmVWYv2IU4",
        "outputId": "44140ebf-690b-431f-bf0a-ad5d76ebd3b8",
        "colab": {
          "base_uri": "https://localhost:8080/"
        }
      },
      "source": [
        "xxx,yy = input().split()\n",
        "xxx = int(xxx)\n",
        "yy = int(yy)\n",
        "b = int((yy - 2*xxx)/2)\n",
        "a = int(xxx -b)\n",
        "print(a,b)"
      ],
      "execution_count": 5,
      "outputs": [
        {
          "output_type": "stream",
          "text": [
            "36 100\n",
            "22 14\n"
          ],
          "name": "stdout"
        }
      ]
    },
    {
      "cell_type": "markdown",
      "metadata": {
        "id": "ZsuV8sbp0bVh"
      },
      "source": [
        "# **Nhận dạng tam giác**\n",
        "Viết chương trình nhập vào 3 số thực. Hãy cho biết đó có phải là độ dài 3 cạnh 1 tam giác hay không? Nếu phải thì đó là loại nào trong 4 loại sau: tam giác thường, cân, đều, vuông.\n",
        "\n",
        "Nếu là tam giác tính diện tích tam giác.\n",
        "\n",
        "INPUT:\n",
        "\n",
        ">Dòng đầu tiên là độ dài cạnh 1.<br>\n",
        ">Dòng thứ hai là độ dài cạnh 2.<br>\n",
        ">Dòng thứ ba là độ dài cạnh 3.\n",
        "\n",
        "OUTPUT\n",
        "\n",
        ">Định dạng như ví dụ minh họa. Diện tích làm tròn 02 chữ số sau dấu thập phân.\n",
        "\n",
        "VÍ DỤ:\n",
        "\n",
        "|INPUT|OUTPUT|\n",
        "|--|--|\n",
        "|2|Tam giac thuong, dien tich = 2.9|\n",
        "|3| |\n",
        "|4| |\n",
        "|3|Tam giac vuong, dien tich = 6|\n",
        "|4| |\n",
        "|5| |\n",
        "|1|Khong phai tam giac\n",
        "|2||\n",
        "|3||"
      ]
    },
    {
      "cell_type": "code",
      "metadata": {
        "id": "pf2DYvzo2Uzi",
        "outputId": "5b286643-8110-4fc6-adb4-4b219c0afa9e",
        "colab": {
          "base_uri": "https://localhost:8080/"
        }
      },
      "source": [
        "a = float(input())\n",
        "b = float(input())\n",
        "c = float(input())\n",
        "\n",
        "p = (a+b+c)/2\n",
        "s = round((p*(p-a)*(p-b)*(p-c))**0.5,2)\n",
        "if s == int(s):\n",
        "  s = int(s)\n",
        "\n",
        "if (a + b > c and a + c > b and b + c > a and a > 0 and b > 0 and c > 0):\n",
        "  if (a*a + b*b == c*c or b*b + c*c == a*a or a*a + c*c == b*b):\n",
        "    print(\"Tam giac vuong, dien tich =\",s)\n",
        "  elif (a == b and b == c and c == a):\n",
        "    print(\"Tam giac deu, dien tich =\",s)\n",
        "  elif (a == b or b == c or c == a):\n",
        "    print(\"Tam giac can, dien tich =\",s)  \n",
        "  elif (a != b and b != c and c != a):\n",
        "    print(\"Tam giac thuong, dien tich =\",s)\n",
        "else:\n",
        "  print(\"Khong phai tam giac\")\n",
        "  "
      ],
      "execution_count": 6,
      "outputs": [
        {
          "output_type": "stream",
          "text": [
            "1\n",
            "2\n",
            "3\n",
            "Khong phai tam giac\n"
          ],
          "name": "stdout"
        }
      ]
    },
    {
      "cell_type": "markdown",
      "metadata": {
        "id": "uWNOytr50-6N"
      },
      "source": [
        "#**BÀI KIỂM TRA**\n",
        "\n",
        "Alice và Bob là đôi bạn thân trong lớp và thường giúp nhau trong giờ học. Hôm nay sẽ có tiết kiểm tra toán và như mọi khi – sẽ có k đề khác nhau. Lớp học có n học sinh. Các bàn trong lớp xếp thành một hàng dọc, mỗi bàn 2 người ngồi. Vị trí bên trái của bàn đánh số là 1, vị trí bên phải – đánh số 2. Đề bài được phát bắt đầu từ vị trí 1 của bàn 1 rồi đến vị trí 2 của bàn 1, tiếp theo là vị trí 1 của bàn 2, rồi tới vị trí 2 của bàn 2, . . . lần lượt các đề 1, đề 2, đề 3, . . . cho tới đề k rồi lại quay lại đề 1, đề 2, . . . cho tới khi tất cả các học sinh đều nhận được đề.\n",
        "\n",
        "Alice đến trước và ngồi vào vị trí quen thuộc của mình: hàng p và vị trí q. Bob đến sau và muốn ngồi vào nơi sẽ nhận được cùng đề với Alice và ở dãy bàn gần với dãy bàn của Alice nhất. Nếu có 2 cách ngồi thì Bob sẽ chọn bàn ở phía trước của Alice.\n",
        "\n",
        "Hãy xác định bàn u và vị trí v trong bàn nơi Bob cần phải ngồi. Nếu không có cách ngồi thỏa mãn thì đưa ra một số -1.\n",
        "\n",
        "Dữ liệu: \n",
        ">Vào từ thiết bị nhập chuẩn:<br>\n",
        "Dòng đầu tiên chứa một số nguyên n (2 ≤ n ≤ 109),<br>\n",
        "Dòng thứ 2 chứa số nguyên k (2 ≤ k ≤ n),<br>\n",
        "Dòng thứ 3 chứa số nguyên p (1 ≤ p ≤ (n+1)/2),<br>\n",
        "Dòng thứ 4 chứa số nguyên q (1 ≤ q ≤ 2).<br>\n",
        "\n",
        "Kết quả: \n",
        ">Đưa ra thiết bị xuất chuẩn một dòng 2 số nguyên u và v tìm được hoặc số -1 nếu không có cách ngồi thỏa mãn điều kiện đã nêu.\n",
        "\n",
        "Ví dụ:\n",
        "\n",
        "|INPUT|OUTPUT|\n",
        "|--|--|\n",
        "|25| 2 2|\n",
        "|2|\n",
        "|1|\n",
        "|2|\n"
      ]
    },
    {
      "cell_type": "code",
      "metadata": {
        "id": "fKMgtmvq2aIQ",
        "outputId": "3bdc734c-5c68-41b0-d032-05300273092e",
        "colab": {
          "base_uri": "https://localhost:8080/"
        }
      },
      "source": [
        "n = int(input())\n",
        "k = int(input())\n",
        "p = int(input())\n",
        "q = int(input())\n",
        "\n",
        "ith = (p-1) * 2 + (q-1)\n",
        "\n",
        "before = ith - k\n",
        "after = ith + k\n",
        "\n",
        "if before >= 0:\n",
        "    print(before//2+1, before%2+1)\n",
        "elif after <= n-1:\n",
        "    print(after//2+1, after%2+1)\n",
        "else:\n",
        "    print(-1)"
      ],
      "execution_count": 7,
      "outputs": [
        {
          "output_type": "stream",
          "text": [
            "25\n",
            "2\n",
            "1\n",
            "2\n",
            "2 2\n"
          ],
          "name": "stdout"
        }
      ]
    },
    {
      "cell_type": "markdown",
      "metadata": {
        "id": "dG4-Z3Qx1UYe"
      },
      "source": [
        "# **ĐƯỜNG SẮT TRÊN CAO**\n",
        "Thành phố đang xây dựng tuyến đường sắt trên cao phục vụ giao thông nội đô. Tuyến đường sẽ có k+1 ga đánh số từ 0 đến k. Tàu chạy suốt ngày đêm, từ ga 0 đến ga k và quay lại. Thời gian đi từ một ga tới ga kế tiếp là 1 phút, thời gian dừng ở mỗi ga là không đáng kể. Hệ thống giao thông này không những nhanh, chuẩn xác về thời gian mà còn là một phương tiện tuyệt vời để ngắm thành phố.\n",
        "\n",
        "BHL của UIT quyết định sẽ tặng cho tất cả tham gia lớp Python online mỗi bạn một vé đi tàu miễn phí trong năm học.\n",
        "\n",
        "Minh rất háo hức với thông báo này và quyết tâm phải giành được một vé. Phần lớn thời gian rảnh rỗi trong ngày Minh đều dùng để rèn luyện lập trình Python, còn ban đêm là thời gian của những giấc mơ đẹp. Minh thấy mình bước lên tàu ở ga số 0, ngồi cạnh cửa sổ say sưa ngắm nhìn quang cảnh thành phố từ trên cao. Thời gian trôi đi khá nhanh. Đồng hồ cho biết Minh đã ngồi trên tàu t phút và Minh quyết định xuống tàu . . .\n",
        "\n",
        "Chuông đồng hồ vang lên, Minh tỉnh giấc, vội vàng đi đánh răng, rửa mặt, chuẩn bị đi học. Trên đường tới trường Minh vẫn nghĩ về giấc mơ đêm qua và không thể nhớ được mình đã xuống ở ga số mấy.\n",
        "\n",
        "Hãy xác định ga mà Minh đã xuống trong giấc mơ sắp thành hiện thực của mình.\n",
        "\n",
        "Dữ liệu: \n",
        ">Vào từ thiết bị nhập chuẩn gồm một dòng chứa 2 số nguyên k và t (0 < k, t ≤ 109)\n",
        "\n",
        "Kết quả: \\\n",
        ">Đưa ra thiết bị xuất chuẩn một số nguyên – ga xác định được.\n",
        "\n",
        "Ví dụ:\n",
        "\n",
        "|INPUT|OUTPUT|\n",
        "|--|--|\n",
        "|5 8|2|"
      ]
    },
    {
      "cell_type": "code",
      "metadata": {
        "id": "1SWktAfd2d9i",
        "outputId": "ea69620c-7749-4832-bdcf-e8ec910f9a8a",
        "colab": {
          "base_uri": "https://localhost:8080/"
        }
      },
      "source": [
        "k, t = [int(x) for x in input().split()]\n",
        "\n",
        "if (t // k) % 2 == 0:\n",
        "    print(t%k)\n",
        "else:\n",
        "    print(k-t%k)"
      ],
      "execution_count": 8,
      "outputs": [
        {
          "output_type": "stream",
          "text": [
            "5 8\n",
            "2\n"
          ],
          "name": "stdout"
        }
      ]
    },
    {
      "cell_type": "markdown",
      "metadata": {
        "id": "NvKMZSMj1gib"
      },
      "source": [
        "# **Tổng ước số**\n",
        "Viết chương trình tính tổng các ước số thực sự của một số nguyên dương.\n",
        "\n",
        "INPUT\n",
        "\n",
        ">Số nguyên dương n giá trị không quá 1 tỷ.\n",
        "\n",
        "OUTPUT\n",
        "\n",
        ">Tổng các ước số của n (không kể n)\n",
        "\n",
        "Ví dụ\n",
        "\n",
        "|Input|Output|\n",
        "|--|--|\n",
        "|4|3|\n",
        "|5|1|\n",
        "|6|6|\n",
        "|8|7|\n",
        "|27|13|\n",
        "\n"
      ]
    },
    {
      "cell_type": "code",
      "metadata": {
        "id": "BeR7xto32izv",
        "outputId": "8fccdb64-5be7-48e5-a866-452acf14a236",
        "colab": {
          "base_uri": "https://localhost:8080/"
        }
      },
      "source": [
        "n = int(input())\n",
        "sum = 0\n",
        "for i in range(1,n):\n",
        "  if n % i == 0:\n",
        "    sum += i\n",
        "print(sum)"
      ],
      "execution_count": 9,
      "outputs": [
        {
          "output_type": "stream",
          "text": [
            "27\n",
            "13\n"
          ],
          "name": "stdout"
        }
      ]
    },
    {
      "cell_type": "markdown",
      "metadata": {
        "id": "EjoGoroG1vxy"
      },
      "source": [
        "# **Số Fibonacci**\n",
        "Nhập vào số nguyên x sao cho 1 ≤ x ≤ 30. Nếu x không thỏa điều kiện, chương trình xuất ra màn hình thông báo “So <x> khong nam trong khoang [1,30].”. Nếu x nằm trong đoạn [1,30], chương trình xuất ra màn hình số Fibonacci thứ x.\n",
        "\n",
        "Ví dụ:\n",
        "\n",
        "|Input|Output|\n",
        "|--|--|\n",
        "|-6|So -6 khong nam trong khoang [1,30].|\n",
        "|6|8|"
      ]
    },
    {
      "cell_type": "code",
      "metadata": {
        "id": "oWnJvCm02kig",
        "outputId": "c99252a1-dd25-42e3-d042-e5b795ae24f8",
        "colab": {
          "base_uri": "https://localhost:8080/"
        }
      },
      "source": [
        "n = int(input())\n",
        "\n",
        "if (n < 1) | (n > 30):\n",
        "    print(\"So\", n, \"khong nam trong khoang [1,30].\")\n",
        "else:\n",
        "    if (n <= 2):\n",
        "        print(1)\n",
        "    else:\n",
        "        s0 = 1\n",
        "        s1 = 1\n",
        "        s2 = 0\n",
        "        for i in range(2, n):\n",
        "            tp = s1 + s0\n",
        "            s0 = s1\n",
        "            s1 = tp\n",
        "        print(s1)"
      ],
      "execution_count": 10,
      "outputs": [
        {
          "output_type": "stream",
          "text": [
            "-6\n",
            "So -6 khong nam trong khoang [1,30].\n"
          ],
          "name": "stdout"
        }
      ]
    }
  ]
}
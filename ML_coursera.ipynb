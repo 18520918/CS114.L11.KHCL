{
  "nbformat": 4,
  "nbformat_minor": 0,
  "metadata": {
    "colab": {
      "name": "ML_coursera.ipynb",
      "provenance": [],
      "authorship_tag": "ABX9TyPmR+YFZp5WRpoFLzHOGpDF",
      "include_colab_link": true
    },
    "kernelspec": {
      "name": "python3",
      "display_name": "Python 3"
    }
  },
  "cells": [
    {
      "cell_type": "markdown",
      "metadata": {
        "id": "view-in-github",
        "colab_type": "text"
      },
      "source": [
        "<a href=\"https://colab.research.google.com/github/18520918/CS114.L11.KHCL/blob/master/ML_coursera.ipynb\" target=\"_parent\"><img src=\"https://colab.research.google.com/assets/colab-badge.svg\" alt=\"Open In Colab\"/></a>"
      ]
    },
    {
      "cell_type": "markdown",
      "metadata": {
        "id": "5IkurhrAuCIy"
      },
      "source": [
        "# [Machine learning by Stanford University](https://www.coursera.org/learn/machine-learning/)\n",
        "\n",
        "## **Week 1**: Linear Regression with one variable.\n",
        "\n",
        "## **Week 2**: Multiple Features.\n",
        "\n",
        "## **Week 3**: Logistic Regression.\n",
        "\n",
        "## **Week 4**: Neural Networks: Representation\n",
        "\n",
        "## **Week 5**: Neural Networks: Learning\n",
        "\n",
        "## **Week 6**: Advice for Applying Machine Learning\n",
        "\n",
        "## **Week 7**: Support Vector Machines\n",
        "\n",
        "## **Week 8**: Unsupervised Learning\n",
        "\n",
        "## **Week 9**: Anomaly Detection\n",
        "\n",
        "## **Week 10**: Large Scale Machine Learning\n",
        "\n",
        "## **Week 11**: Application Example: Photo OCR"
      ]
    },
    {
      "cell_type": "code",
      "metadata": {
        "id": "C4lSerx_t_s9"
      },
      "source": [
        ""
      ],
      "execution_count": null,
      "outputs": []
    }
  ]
}
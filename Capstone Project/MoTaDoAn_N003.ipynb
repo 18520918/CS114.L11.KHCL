{
  "nbformat": 4,
  "nbformat_minor": 0,
  "metadata": {
    "colab": {
      "name": "MoTaDoAn_N003.ipynb",
      "provenance": [],
      "collapsed_sections": [],
      "include_colab_link": true
    },
    "kernelspec": {
      "name": "python3",
      "display_name": "Python 3"
    }
  },
  "cells": [
    {
      "cell_type": "markdown",
      "metadata": {
        "id": "view-in-github",
        "colab_type": "text"
      },
      "source": [
        "<a href=\"https://colab.research.google.com/github/18520918/CS114.L11.KHCL/blob/master/Capstone%20Project/MoTaDoAn_N003.ipynb\" target=\"_parent\"><img src=\"https://colab.research.google.com/assets/colab-badge.svg\" alt=\"Open In Colab\"/></a>"
      ]
    },
    {
      "cell_type": "markdown",
      "metadata": {
        "id": "VkLiQ_yuJWco"
      },
      "source": [
        "## _**MÔ TẢ ĐỒ ÁN MÁY HỌC N003**_\r\n",
        "\r\n",
        "**1. Mô tả bài toán:**\r\n",
        "\r\n",
        "- Đầu vào: ảnh chụp ban ngày, từ trên cao và dọc theo con đường có các loại xe cần phân loại\r\n",
        "\r\n",
        "> Ví dụ: <img src='https://drive.google.com/uc?id=1g4mXTY2JjDP-6ufMlZN0OiH4sm0fkhV4'>\r\n",
        "\r\n",
        "- Đầu ra: ảnh đầu vào với các xe được gắn nhãn loại tương ứng\r\n",
        "\r\n",
        "> Ví dụ: <img src='https://drive.google.com/uc?id=1wZfkjFJuxoiE-F37lH7QHaUG4SfbDIMb'>\r\n",
        "\r\n",
        "**2. Mô tả về bộ dữ liệu:**\r\n",
        "\r\n",
        "+ Cách thức xây dựng bộ dữ liệu: ảnh chụp thủ công trên đường quốc lộ\r\n",
        "\r\n",
        "+ Số lượng, độ đa dạng: 1300 ảnh (demo 700)\r\n",
        "\r\n",
        "+ Các thao tác tiền xử lý dữ liệu: gắn nhãn xác định cho từng xe trong từng ảnh\r\n",
        "\r\n",
        "+ Phân chia tập train/test: 10:3 (demo 5:2)\r\n",
        "\r\n",
        "**3. Mô tả về đặc trưng + feature engineering**\r\n",
        "\r\n",
        "**4. Mô tả về thuật toán máy học (dự kiến)**\r\n",
        "\r\n",
        "**5. Cài đặt, tinh chỉnh tham số (dự kiến)**\r\n",
        "\r\n",
        "**6. Đánh giá kết quả, kết luận (dự kiến)**\r\n"
      ]
    }
  ]
}
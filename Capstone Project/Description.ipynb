{
  "nbformat": 4,
  "nbformat_minor": 0,
  "metadata": {
    "colab": {
      "name": "Description.ipynb",
      "provenance": [],
      "authorship_tag": "ABX9TyPD8XuujwDgXLb2XHIlH6Zn",
      "include_colab_link": true
    },
    "kernelspec": {
      "name": "python3",
      "display_name": "Python 3"
    }
  },
  "cells": [
    {
      "cell_type": "markdown",
      "metadata": {
        "id": "view-in-github",
        "colab_type": "text"
      },
      "source": [
        "<a href=\"https://colab.research.google.com/github/18520918/CS114.L11.KHCL/blob/master/Capstone%20Project/Description.ipynb\" target=\"_parent\"><img src=\"https://colab.research.google.com/assets/colab-badge.svg\" alt=\"Open In Colab\"/></a>"
      ]
    },
    {
      "cell_type": "markdown",
      "metadata": {
        "id": "mk4QyMGJ3YBY"
      },
      "source": [
        "# **Tên đề tài**: Nhận diện logo các khoa thuộc trường Đại học Công nghệ Thông tin - ĐHQG TP.HCM **(Object Detection)**\r\n",
        "\r\n",
        "## **1. Mô tả bài toán:** \r\n",
        "> **Input**: 1 bức ảnh có chứa 1 hoặc nhiều logo khoa của trường.\r\n",
        "\r\n",
        "![IMAGAE-1](https://i.imgur.com/i99n0rU.png)\r\n",
        "\r\n",
        "> **Output**: Một hoặc nhiều bounding box và nhãn cho mỗi bounding box tương ứng với logo được phát hiện.\r\n",
        "\r\n",
        "![IMAGAE-2](https://i.imgur.com/NIC693f.png)\r\n",
        "\r\n",
        "## **2. Về bộ dữ liệu:**\r\n",
        "\r\n",
        "> **Cách thức xây dựng bộ dữ liệu** (ví dụ có sẵn trên mạng, hoặc tự xây dựng): Thông qua các video, hình ảnh có nội dung liên quan trong trường hoặc các sản phẩm có chứa logo. Sau đó tiến hành detect logo tương ứng trong mỗi ảnh bằng công cụ **DarkLabel**\r\n",
        "\r\n",
        "> **Số lượng, độ đa dạng**: <br>\r\n",
        "Dự kiến khoảng 200 ảnh cho mỗi logo khoa ~ **1200 ảnh**\r\n",
        "+ Khoa Khoa học máy tính (CS)\r\n",
        "+ Khoa Công nghệ phần mềm (SE)\r\n",
        "+ Khoa Mạng máy tính và truyền thông (NC)\r\n",
        "+ Khoa Hệ thống thông tin (IS)\r\n",
        "+ Khoa Kỹ thuật máy tính (CE)\r\n",
        "+ Khoa Khoa học và kỹ thuật thông tin (FIT)\r\n",
        "\r\n",
        "> các thao tác tiền xử lý dữ liệu:\r\n",
        "\r\n",
        "> phân chia (split) - train/dev/test:\r\n",
        "\r\n",
        "\r\n",
        "## **3. Mô tả về đặc trưng**\r\n",
        "\r\n",
        "> feature engineering\r\n",
        "\r\n",
        "# **4. Mô tả về thuật toán máy học**\r\n",
        "(dự kiến)\r\n",
        "# **5. Cài đặt, tinh chỉnh tham số**\r\n",
        "(dự kiến)\r\n",
        "## **6. Đánh giá kết quả, kết luận**\r\n",
        "(dự kiến)\r\n"
      ]
    }
  ]
}
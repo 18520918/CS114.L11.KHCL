{
  "nbformat": 4,
  "nbformat_minor": 0,
  "metadata": {
    "colab": {
      "name": "Description.ipynb",
      "provenance": [],
      "authorship_tag": "ABX9TyPb0NES3O9QdYUmIm21Ayzd",
      "include_colab_link": true
    },
    "kernelspec": {
      "name": "python3",
      "display_name": "Python 3"
    }
  },
  "cells": [
    {
      "cell_type": "markdown",
      "metadata": {
        "id": "view-in-github",
        "colab_type": "text"
      },
      "source": [
        "<a href=\"https://colab.research.google.com/github/18520918/CS114.L11.KHCL/blob/master/Capstone%20Project/Description.ipynb\" target=\"_parent\"><img src=\"https://colab.research.google.com/assets/colab-badge.svg\" alt=\"Open In Colab\"/></a>"
      ]
    },
    {
      "cell_type": "markdown",
      "metadata": {
        "id": "mk4QyMGJ3YBY"
      },
      "source": [
        "# **Tên đề tài**:\r\n",
        "\r\n",
        "## **1. Mô tả bài toán:** \r\n",
        "> Input:\r\n",
        "\r\n",
        "> Output:\r\n",
        "\r\n",
        "## **2. Mô tả về bộ dữ liệu:**\r\n",
        "\r\n",
        "> cách thức xây dựng bộ dữ liệu (ví dụ có sẵn trên mạng, hoặc tự xây dựng):\r\n",
        "\r\n",
        "> số lượng, độ đa dạng:\r\n",
        "\r\n",
        "> các thao tác tiền xử lý dữ liệu:\r\n",
        "\r\n",
        "> phân chia (split) - train/dev/test:\r\n",
        "\r\n",
        "\r\n",
        "## **3. Mô tả về đặc trưng**\r\n",
        "\r\n",
        "> feature engineering\r\n",
        "\r\n",
        "# **4. Mô tả về thuật toán máy học**\r\n",
        "(dự kiến)\r\n",
        "# **5. Cài đặt, tinh chỉnh tham số**\r\n",
        "(dự kiến)\r\n",
        "## **6. Đánh giá kết quả, kết luận**\r\n",
        "(dự kiến)\r\n"
      ]
    }
  ]
}
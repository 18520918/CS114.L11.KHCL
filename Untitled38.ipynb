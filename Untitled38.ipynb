{
  "nbformat": 4,
  "nbformat_minor": 0,
  "metadata": {
    "colab": {
      "name": "Untitled38.ipynb",
      "provenance": [],
      "collapsed_sections": [],
      "include_colab_link": true
    },
    "kernelspec": {
      "name": "python3",
      "display_name": "Python 3"
    }
  },
  "cells": [
    {
      "cell_type": "markdown",
      "metadata": {
        "id": "view-in-github",
        "colab_type": "text"
      },
      "source": [
        "<a href=\"https://colab.research.google.com/github/18520918/CS114.L11.KHCL/blob/master/Untitled38.ipynb\" target=\"_parent\"><img src=\"https://colab.research.google.com/assets/colab-badge.svg\" alt=\"Open In Colab\"/></a>"
      ]
    },
    {
      "cell_type": "markdown",
      "metadata": {
        "id": "34pg3ws5w90i"
      },
      "source": [
        "\n",
        "#1. Mô tả bài toán:\n",
        "- Nhận diện người đeo khẩu trang trong khuôn viên trường UIT.\n",
        "\n",
        "- Input:\n",
        "> Ảnh có nhiều người và hiện rõ mặt.\n",
        "\n",
        "- Output:\n",
        "> Ảnh được gắn nhãn đeo khẩu trang và không đeo khẩu trang ở mỗi khuôn mặt.\n",
        "\n",
        "#2. Mô tả về bộ dữ liệu: \n",
        "+ Cách thức xây dựng bộ dữ liệu (ví dụ có sẵn trên mạng, hoặc tự xây dựng)\n",
        "> Ảnh tự chụp trong khuôn viên trường UIT.\n",
        "\n",
        "+ Số lượng, độ đa dạng:\n",
        "> 300 tấm ảnh, ở các thời gian, địa điểm khác nhau trong môi trường đủ sáng.\n",
        "\n",
        "+ Các thao tác tiền xử lý dữ liệu:\n",
        "> Nhận diện khuôn mặt bằng CascadeClassifier trong thư viện OpenCV (cv2).\n",
        "\n",
        "+ Phân chia (split) - train / test:\n",
        "> train: 70%, test: 30%\n",
        "\n",
        "#3. Mô tả về đặc trưng\n",
        "+ feature engineering\n",
        "\t\n",
        "\n"
      ]
    }
  ]
}
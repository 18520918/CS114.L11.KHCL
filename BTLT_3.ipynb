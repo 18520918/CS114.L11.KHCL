{
  "nbformat": 4,
  "nbformat_minor": 0,
  "metadata": {
    "colab": {
      "name": "BTLT_3.ipynb",
      "provenance": [],
      "authorship_tag": "ABX9TyMBxajEwkamLYHMn8qhvnfh",
      "include_colab_link": true
    },
    "kernelspec": {
      "name": "python3",
      "display_name": "Python 3"
    }
  },
  "cells": [
    {
      "cell_type": "markdown",
      "metadata": {
        "id": "view-in-github",
        "colab_type": "text"
      },
      "source": [
        "<a href=\"https://colab.research.google.com/github/18520918/CS114.L11.KHCL/blob/master/BTLT_3.ipynb\" target=\"_parent\"><img src=\"https://colab.research.google.com/assets/colab-badge.svg\" alt=\"Open In Colab\"/></a>"
      ]
    },
    {
      "cell_type": "markdown",
      "metadata": {
        "id": "oAqPZMFkbgOP"
      },
      "source": [
        "# **fast.power**\n",
        "Viết chương trình tính lũy thừa của hai số nguyên dương\n",
        "\n",
        "INPUT\n",
        "> Hai số nguyên m và n\n",
        "\n",
        "OUTPUT\n",
        "> Số dư còn lại khi lấy lũy thừa mn chia cho giá trị 1.000.000.007"
      ]
    },
    {
      "cell_type": "code",
      "metadata": {
        "id": "LPhsid373fPK",
        "outputId": "e6877558-ace0-4090-ac06-b3562282345f",
        "colab": {
          "base_uri": "https://localhost:8080/"
        }
      },
      "source": [
        "def f(x,e,m):\n",
        "    X = x\n",
        "    E = e\n",
        "    Y = 1\n",
        "    while E > 0:\n",
        "        if E % 2 == 0:\n",
        "            X = (X * X) % m\n",
        "            E = E/2\n",
        "        else:\n",
        "            Y = (X * Y) % m\n",
        "            E = E - 1\n",
        "    return Y\n",
        "\n",
        "m,n = map(int, input().split())\n",
        "print(pow(m,n,1000000007))"
      ],
      "execution_count": null,
      "outputs": [
        {
          "output_type": "stream",
          "text": [
            "990 88\n",
            "505518168\n"
          ],
          "name": "stdout"
        }
      ]
    },
    {
      "cell_type": "markdown",
      "metadata": {
        "id": "ws195_Q2bmO5"
      },
      "source": [
        "# **Cuộc đua của nhà Vua**\n",
        "Cho một bàn cờ có kích thước n x n. Mỗi hàng được đánh số từ 1 đến n (từ dưới lên trên). Mỗi cột được đánh số từ 1 đến n (từ trái qua phải). Vì vậy, mỗi ô trong bàn cờ sẽ có tọa độ là (r,c) với r là vị trí của hàng, c là vị trí của cột.\n",
        "\n",
        "Vua trắng bắt đầu từ vị trí (1,1) còn Vua đen bắt đầu từ vị trí (n,n). Một kho báu xuất hiện ngẫu nhiên ở vị trí (x,y) trong bàn cờ. Mỗi vị Vua sẽ tìm cách đến vị trí của kho báu đó, ai tới trước sẽ giành chiến thắng.\n",
        "\n",
        "Tương tự như cờ vua, Vua trắng sẽ đi trước rồi tới lượt Vua đen và cứ thế luân phiên nhau. Mỗi lần chỉ được di chuyển đến ô liền kề nó nhất. Nếu Vua đang ở vị trí (a,b) thì có thể di chuyển đến một trong các vị trí (a+1,b), (a−1,b), (a,b+1), (a,b−1), (a+1,b−1), (a+1,b+1), (a−1,b−1), hoặc (a−1,b+1). Tất nhiên không được di chuyển ra khỏi bàn cờ.\n",
        "\n",
        "Điểm khác biệt là các vị vua có thể đứng ở những vị trí kế nhau hoặc thậm chí là trùng vị trí với nhau.\n",
        "\n",
        "Người chiến thắng là người đến vị trí kho báu đầu tiên. Bạn hãy xác định người chiến thắng.\n",
        "\n",
        "INPUT:\n",
        "\n",
        "Dòng đầu tiên là một số nguyên \n",
        "n\n",
        " \n",
        "(\n",
        "2\n",
        "≤\n",
        "n\n",
        "≤\n",
        "10\n",
        "18\n",
        ")\n",
        " — kích thước của bàn cờ.\n",
        "\n",
        "Dòng thứ hai gồm hai số \n",
        "x\n",
        ",\n",
        "y\n",
        " \n",
        "(\n",
        "1\n",
        "≤\n",
        "x\n",
        ",\n",
        "y\n",
        "≤\n",
        "n\n",
        ")\n",
        " — Tọa độ xuất hiện của kho báu.\n",
        "\n",
        "OUTPUT:\n",
        "\n",
        "Nếu Vua trắng thắng, xuất White\n",
        "\n",
        "Ngược lại xuất Black"
      ]
    },
    {
      "cell_type": "code",
      "metadata": {
        "id": "vMLmy-FDbq6h",
        "outputId": "7aec4970-1051-42ac-dd1f-03d94b2d097f",
        "colab": {
          "base_uri": "https://localhost:8080/"
        }
      },
      "source": [
        "\n",
        "n = int(input())\n",
        "x,y = map(int,input().split())\n",
        "t1 = abs((x-1) + (y-1))\n",
        "t2 = abs((x-n) + (y-n))\n",
        "\n",
        "if t1 <= t2:\n",
        "  print(\"White\")\n",
        "else:\n",
        "  print(\"Black\")"
      ],
      "execution_count": null,
      "outputs": [
        {
          "output_type": "stream",
          "text": [
            "4\n",
            "2 3\n",
            "White\n"
          ],
          "name": "stdout"
        }
      ]
    },
    {
      "cell_type": "markdown",
      "metadata": {
        "id": "V2CyeOrGbrBW"
      },
      "source": [
        "# **Số điện thoại**\n",
        "Một dãy số là một số điện thoại nếu dãy số đó gồm 11 số có dạng \"8xxxxxxxxxxx\", với x là những số ngẫu nhiên từ 0 đến 9. Ví dụ \"80123456789\" và \"80000000000\" là số điện thoại. Trong khi \"8012345678\" và \"79000000000\" thì không phải.\n",
        "\n",
        "Bạn có \n",
        "n\n",
        " thẻ bài, mỗi thẻ bài được đánh số ngẫu nhiên từ 0 đến 9. Nhiệm vụ của bạn là sắp xếp chúng thành những dãy số điện thoại.\n",
        "\n",
        "INPUT:\n",
        "\n",
        "Dòng đầu tiên là một số nguyên \n",
        "n\n",
        " \n",
        "(\n",
        "1\n",
        "≤\n",
        "n\n",
        "≤\n",
        "1000\n",
        ")\n",
        " — số lượng thẻ bài.\n",
        "\n",
        "Dòng thứ hai ghi chuỗi \n",
        "n\n",
        " chữ số \n",
        "a\n",
        "1\n",
        ",\n",
        "a\n",
        "2\n",
        ",\n",
        ".\n",
        ".\n",
        ".\n",
        ",\n",
        "a\n",
        "n\n",
        " \n",
        "(\n",
        "0\n",
        "≤\n",
        "a\n",
        "i\n",
        "≤\n",
        "9\n",
        ")\n",
        " — số được đánh trên thẻ bài (Các chữ số viết liền nhau)\n",
        "\n",
        "OUTPUT:\n",
        "\n",
        "In ra màn hình số lượng tối đa số điện thoại có thể xếp được."
      ]
    },
    {
      "cell_type": "code",
      "metadata": {
        "id": "YV2U-eGPbuSz",
        "outputId": "5b8b2870-8477-47a4-b831-8c89d0e89c1c",
        "colab": {
          "base_uri": "https://localhost:8080/"
        }
      },
      "source": [
        "n = int(input())\n",
        "s = input()\n",
        "dem = 0\n",
        "for i in range(len(s)):\n",
        "  if s[i] == '8':\n",
        "    dem = dem + 1\n",
        "if dem >= int(n/11):\n",
        "  print(int(n/11))\n",
        "elif dem < int(n/11):\n",
        "  print(dem)\n",
        "elif n % 11 != 0:\n",
        "  print(0)\n",
        "else:\n",
        "  print(0)"
      ],
      "execution_count": null,
      "outputs": [
        {
          "output_type": "stream",
          "text": [
            "22\n",
            "0011223344556677889988\t\n",
            "2\n"
          ],
          "name": "stdout"
        }
      ]
    },
    {
      "cell_type": "markdown",
      "metadata": {
        "id": "lz73_wZvbua6"
      },
      "source": [
        "# **Trộm laptop**\n",
        "Tối hôm qua, trên địa bàn Tp.HCM đã xảy ra một vụ trộm tại một cửa hàng bán laptop. Do chủ cửa hàng kịp thời phát giác nên tên trộm chỉ kịp lấy đi một số laptop có ở cửa hàng.\n",
        "\n",
        "Tất cả những laptop ở cửa hàng được đánh số thứ tự tăng dần, bắt đầu từ \n",
        "x\n",
        " . Ví dụ, nếu x =5.\n",
        " và cửa hàng có 4 laptop thì những laptop đó sẽ được đánh số lần lượt là 5,6,7,8. Nếu x=10.\n",
        " và cửa hàng có 9 laptop thì những laptop đó sẽ được đánh số lần lượt là 10,11,12,13,14,15,16,17,18.\n",
        "\n",
        "Sau vụ trộm, chỉ còn lại \n",
        "n\n",
        " laptop và chúng có số thứ tự là \n",
        "a\n",
        "1\n",
        ",\n",
        "a\n",
        "2\n",
        ",\n",
        ".\n",
        ".\n",
        ".\n",
        ",\n",
        "a\n",
        "n\n",
        ". Không may thay, tất cả nhân viên ở cửa hàng không nhớ số \n",
        "x\n",
        " cũng như số lượng laptop có trong cửa hàng lúc chưa xảy ra vụ trộm. Nhiệm vụ của bạn là tìm ra số lượng tối thiểu laptop có thể bị mất trộm vào ngày hôm qua.\n",
        "\n",
        "INPUT:\n",
        "\n",
        "Dòng đầu tiên là một số nguyên \n",
        "n\n",
        " \n",
        "(\n",
        "1\n",
        "≤\n",
        "n\n",
        "≤\n",
        "1000\n",
        ")\n",
        " — số lượng laptop còn lại sau vụ trộm.\n",
        "\n",
        "Dòng thứ hai gồm \n",
        "n\n",
        " số nguyên riêng biệt \n",
        "a\n",
        "1\n",
        ",\n",
        "a\n",
        "2\n",
        ",\n",
        ".\n",
        ".\n",
        ".\n",
        ",\n",
        "a\n",
        "n\n",
        " \n",
        "(\n",
        "1\n",
        "≤\n",
        "a\n",
        "i\n",
        "≤\n",
        "10\n",
        "9\n",
        ")\n",
        " — số thứ tự của những laptop còn lại sau vụ trộm (được sắp xếp theo thứ tự lộn xộn)\n",
        "\n",
        "OUTPUT:\n",
        "\n",
        "In ra màn hình số lượng tối thiểu laptop có thể bị mất trộm vào ngày hôm qua."
      ]
    },
    {
      "cell_type": "code",
      "metadata": {
        "id": "Fu-ZdB0pb1oX",
        "outputId": "840c4978-709a-446d-e6c6-3097c2735a54",
        "colab": {
          "base_uri": "https://localhost:8080/"
        }
      },
      "source": [
        "n = int(input())\n",
        "p = []\n",
        "p.append(input().split())\n",
        "b = [list(map(int, x)) for x in p]\n",
        "d = []\n",
        "for i in range(n):\n",
        "  d.append(b[0][i])\n",
        "\n",
        "print(max(d)-min(d)-n+1)"
      ],
      "execution_count": null,
      "outputs": [
        {
          "output_type": "stream",
          "text": [
            "4\n",
            "10 13 12 8\t\n",
            "2\n"
          ],
          "name": "stdout"
        }
      ]
    },
    {
      "cell_type": "markdown",
      "metadata": {
        "id": "zEOkrL8fb1vk"
      },
      "source": [
        "# **Chuỗi bằng nhau**\n",
        "Cho hai chuỗi \n",
        "s\n",
        ",\n",
        "t\n",
        " chỉ gồm những kí tự Latin và có độ dài bằng nhau. Bạn có thể thực hiện nhiều lần biến đổi trên hai chuỗi đó.\n",
        "\n",
        "Một phép biến đổi bạn được phép thay thế một kí tự ở vị trí bất kì trong chuỗi đó thành kí tự liền kề với nó (trái hoặc phải).\n",
        "\n",
        "Ví dụ: bạn có chuỗi \n",
        "s\n",
        " = \"acbc\", bạn có thể thực hiện những phép biến đổi sau:\n",
        "\n",
        "thay s2=s1, kết quả thu được: \"aabc\".thay s1=s2, kết quả thu được: \"ccbc\".\n",
        "thay s3=s2 hoặc s3=s4, kết quả thu được: \"accc\".thay s2=s3, kết quả thu được: \"abbc\".thay s4=s3, kết quả thu được: \"acbb\".\n",
        "Lưu ý: Bạn được phép thực hiện nhiều phép biến đổi trên cả 2 chuỗi \n",
        "s\n",
        ",\n",
        "t\n",
        "\n",
        "Nhiệm vụ của bạn là sau khi thực hiện một loạt các phép biến đổi theo quy tắc trên cho hai chuỗi \n",
        "s\n",
        " và  \n",
        "t\n",
        " thì ta có thể thu được hai chuỗi bằng nhau hay không?\n",
        "\n",
        "INPUT:\n",
        "\n",
        "Dòng đầu tiên là một số nguyên \n",
        "q\n",
        " \n",
        "(\n",
        "1\n",
        "≤\n",
        "q\n",
        "≤\n",
        "100\n",
        ")\n",
        " — số lượng testcase. Với mỗi testcase theo sau bởi 2 dòng:\n",
        "\n",
        "Dòng đầu tiên là một chuỗi \n",
        "s\n",
        " \n",
        "(\n",
        "1\n",
        "≤\n",
        "|\n",
        "s\n",
        "|\n",
        "≤\n",
        "100\n",
        ")\n",
        " — chỉ gồm các chữ cái Latin viết thường.\n",
        "\n",
        "Dòng thứ hai là một chuỗi \n",
        "t\n",
        " \n",
        "(\n",
        "1\n",
        "≤\n",
        "|\n",
        "t\n",
        "|\n",
        "≤\n",
        "100\n",
        ",\n",
        "|\n",
        "t\n",
        "|\n",
        "=\n",
        "|\n",
        "s\n",
        "|\n",
        ")\n",
        " — chỉ gồm các chữ cái Latin viết thường.\n",
        "\n",
        "OUTPUT:\n",
        "\n",
        "Ứng với mỗi testcase xuất trên 1 dòng.\n",
        "\n",
        "Nếu có thể biến hai chuỗi \n",
        "s\n",
        " và  \n",
        "t\n",
        " thành chuỗi bằng nhau, xuất YES\n",
        "\n",
        "Ngược lại xuất NO"
      ]
    },
    {
      "cell_type": "code",
      "metadata": {
        "id": "WQHc1MSeb4F8",
        "outputId": "ec111aa4-ed7d-45e4-da71-ca1da03280a8",
        "colab": {
          "base_uri": "https://localhost:8080/"
        }
      },
      "source": [
        "TEST = int(input())\n",
        "\n",
        "def sol(s0, s1):\n",
        "    for x in s0:\n",
        "        for y in s1:\n",
        "            if (x == y):\n",
        "                return 1\n",
        "    return 0\n",
        "while TEST > 0:\n",
        "    TEST-=1\n",
        "    s0 = input()\n",
        "    s1 = input()\n",
        "\n",
        "    x = sol(s0, s1)\n",
        "    if (x == 1):\n",
        "        print(\"YES\")\n",
        "    else:\n",
        "        print(\"NO\")"
      ],
      "execution_count": null,
      "outputs": [
        {
          "output_type": "stream",
          "text": [
            "3\n",
            "xabb\n",
            "aabx\n",
            "YES\n",
            "technocup\n",
            "technocup\n",
            "YES\n",
            "a\n",
            "z\n",
            "NO\n"
          ],
          "name": "stdout"
        }
      ]
    },
    {
      "cell_type": "markdown",
      "metadata": {
        "id": "UxXf9fzCb4MW"
      },
      "source": [
        "\n",
        "# **Lan's Language**\n",
        "Lan đang học ở một trường ngoại ngữ ở Tp.HCM. Lan rất yêu thích ngôn ngữ, đặc biệt là ngữ pháp. Khi  bước vào năm thứ 3, Lan quyết định tạo ra một ngôn ngữ mới dễ sử dụng nhất có thể đủ để nói chuyện với bạn bè. Ngôn ngữ mới của Lan có tên là Lan's Language và thỏa theo những ngữ pháp sau:\n",
        "\n",
        "Có 3 loại từ trong Lan's Language: danh từ, động từ và tính từ. Mỗi từ trong Lan's Language thuộc một trong 3 loại từ đó.\n",
        "Có 2 giới tính: Nam và Nữ. Mỗi từ trong Lan's Language thuộc một trong 2 giới tính đó.\n",
        "Tính từ nam là những từ kết thúc với -lios và Tính từ nữ là những từ kết thúc với -liala.\n",
        "Danh từ nam là những từ kết thúc với -etr và  Danh từ nữ là những từ kết thúc với -etra.\n",
        "Động từ nam là những từ kết thúc với -initis và  Động từ nữ là những từ kết thúc với -inites.\n",
        "Các từ trong Lan's Language luôn kết thúc bằng 1 trong các đuôi trên.\n",
        "Các từ mà chỉ có mỗi đuôi như \"lios\", \"liala\", \"etr\"... cũng thuộc Lan's Language.\n",
        "Không có dấu câu, ngữ pháp chia thì và các dạng biến đổi từ trong Lan's Language.\n",
        "Một câu trong Lan's Language là một từ hợp lệ (thỏa những tính chất trong Lan's Language) hoặc là một mệnh đề hợp lệ.\n",
        "Một mệnh đề hợp lệ trong Lan's language phải thỏa 2 điều kiện sau:\n",
        "\n",
        "Những từ trong mệnh đề phải hợp lệ và được sắp xếp theo thứ tự: Tính từ + Danh từ + Động từ. Trong đó: Tính từ có thể có 1 hoặc nhiều hoặc không có nhưng phải đứng trước Danh từ. Chỉ có duy nhất một Danh từ trong câu. Động từ có thể có 1 hoặc nhiều hoặc không có nhưng phải đứng sau Danh từ.\n",
        "Tất cả các từ trong mệnh đề phải cùng giới tính.\n",
        "Cho một câu gồm một chuỗi các từ, nhiệm vụ của bạn là viết một chương trình kiểm tra xem câu được nhập vào có thỏa mãn những tính chất của Lan's language hay không? \n",
        "\n",
        "INPUT:\n",
        "\n",
        "Dòng đầu tiên là một hoặc nhiều từ được viết thường bằng những kí tự Latin. Tổng số kí tự nhập vào không quá \n",
        "10\n",
        "5\n",
        " (bao gồm cả khoảng trắng).\n",
        "\n",
        "OUTPUT:\n",
        "\n",
        "Nếu câu nhập vào thỏa mãn những tính chất của Lan's language, xuất YES\n",
        "Ngược lại xuất NO"
      ]
    },
    {
      "cell_type": "code",
      "metadata": {
        "id": "yWL4qyPSb6hM",
        "outputId": "452f330e-f26b-46d0-e757-4522a2601f96",
        "colab": {
          "base_uri": "https://localhost:8080/"
        }
      },
      "source": [
        "s = list(map(str,input().split()))\n",
        "\n",
        "\n",
        "def ck(st):\n",
        "    n = len(st)\n",
        "\n",
        "    if (n >= 3):\n",
        "        if (st[n-3] == 'e') & (st[n-2] == 't') & (st[n-1] == 'r'):\n",
        "            return 2\n",
        "\n",
        "    if (n >= 4):\n",
        "        if (st[n-4] == 'l') & (st[n-3] == 'i') & (st[n-2] == 'o') & (st[n-1] == 's'):\n",
        "            return 1\n",
        "        if (st[n-4] == 'e') & (st[n-3] == 't') & (st[n-2] == 'r') & (st[n-1] == 'a'):\n",
        "            return 5\n",
        "    if (n >= 5):\n",
        "        if (st[n-5] == 'l') & (st[n-4] == 'i') & (st[n-3] == 'a') & (st[n-2] == 'l') & (st[n-1] == 'a'):\n",
        "            return 4\n",
        "    if (n >= 6):\n",
        "        if (st[n-6] == 'i') & (st[n-5] == 'n') & (st[n-4] == 'i') & (st[n-3] == 't') & (st[n-2] == 'i') & (st[n-1] == 's'):\n",
        "            return 3\n",
        "        if (st[n-6] == 'i') & (st[n-5] == 'n') & (st[n-4] == 'i') & (st[n-3] == 't') & (st[n-2] == 'e') & (st[n-1] == 's'):\n",
        "            return 6\n",
        "    return 0\n",
        "\n",
        "\n",
        "ok = 1\n",
        "pre = 0\n",
        "s2 = 0\n",
        "s5 = 0\n",
        "for x in s:\n",
        "    tp = ck(x)\n",
        "    if (tp < pre):\n",
        "        ok = 0\n",
        "        break\n",
        "    if (tp == pre):\n",
        "        if (pre == 2) | (pre == 5):\n",
        "            ok = 0\n",
        "            break\n",
        "\n",
        "    if (tp > pre):\n",
        "        if (pre > 0) & (pre <= 3) & (tp > 3):\n",
        "            ok = 0\n",
        "            break\n",
        "\n",
        "    if (tp == 2):\n",
        "        s2+=1\n",
        "    if (tp == 5):\n",
        "        s5+=1\n",
        "    pre = tp\n",
        "\n",
        "\n",
        "\n",
        "if ok == 1:\n",
        "    if (pre <= 3) & (s2 == 0):\n",
        "        ok = 0\n",
        "    if (pre > 3) & (s5 == 0):\n",
        "        ok = 0\n",
        "\n",
        "if (len(s) == 1):\n",
        "    x = ck(s[0])\n",
        "    if (x >= 1) & (x <= 6):\n",
        "        ok = 1\n",
        "        \n",
        "if ok == 1:\n",
        "    print(\"YES\")\n",
        "else:\n",
        "    print(\"NO\")"
      ],
      "execution_count": null,
      "outputs": [
        {
          "output_type": "stream",
          "text": [
            "etis atis animatis etis atis amatis\t\n",
            "NO\n"
          ],
          "name": "stdout"
        }
      ]
    },
    {
      "cell_type": "markdown",
      "metadata": {
        "id": "jCDtdGhBb6px"
      },
      "source": [
        "# **Cuộc thi**\n",
        "Có \n",
        "n\n",
        "  thí sinh tham gia vòng loại ở một cuộc thi lập trình. Để được vào vòng chung kết, các thí sinh phải có số điểm là một số nguyên dương và phải lớn hơn hoặc bằng số điểm của người đang đứng ở vị trí thứ \n",
        "k\n",
        " trong bảng xếp hạng.\n",
        "\n",
        "Nhiệm vụ của bạn là tìm xem có bao nhiêu thí sinh tham dự vòng chung kết.\n",
        "\n",
        "INPUT:\n",
        "\n",
        "Dòng đầu tiên gồm hai số nguyên \n",
        "n\n",
        ",\n",
        "k\n",
        " \n",
        "(\n",
        "1\n",
        "≤\n",
        "k\n",
        "≤\n",
        "n\n",
        "≤\n",
        "50\n",
        ")\n",
        ".\n",
        "\n",
        "Dòng thứ hai là một chuỗi số nguyên cách nhau  \n",
        "a\n",
        "1\n",
        ",\n",
        "a\n",
        "2\n",
        ",\n",
        ".\n",
        ".\n",
        ".\n",
        ",\n",
        "a\n",
        "n\n",
        " \n",
        "(\n",
        "0\n",
        "≤\n",
        "a\n",
        "i\n",
        "≤\n",
        "100\n",
        ")\n",
        " — điểm số của các thí sinh trên bảng xếp hạng được xếp theo thứ tự không tăng.\n",
        "\n",
        "OUTPUT:\n",
        "\n",
        "Số lượng thí sinh lọt vào vòng chung kết."
      ]
    },
    {
      "cell_type": "code",
      "metadata": {
        "id": "IQIWPwi2cB0s",
        "outputId": "d3f99e67-e7e4-492a-c7c0-71494328d61b",
        "colab": {
          "base_uri": "https://localhost:8080/"
        }
      },
      "source": [
        "x,y = map(int, input().split())\n",
        "p = []\n",
        "p.append(input().split())\n",
        "b = [list(map(int, x)) for x in p]\n",
        "d = []\n",
        "for i in range(x):\n",
        "  d.append(b[0][i])\n",
        "\n",
        "dem = y\n",
        "tong = 0\n",
        "if d[y-1] != 0:\n",
        "  for i in range(y,x):\n",
        "    if d[y-1] == d[i]:\n",
        "      dem = dem + 1\n",
        "  print(dem)\n",
        "else:\n",
        "  for i in range(0,y):\n",
        "    if d[i] == 0:\n",
        "      dem = dem - 1\n",
        "    else:\n",
        "      dem == 0\n",
        "  print(dem)\n",
        " \n",
        "\n",
        "\n",
        "  "
      ],
      "execution_count": null,
      "outputs": [
        {
          "output_type": "stream",
          "text": [
            "8 5\n",
            "10 9 8 7 7 7 5 5\t\n",
            "6\n"
          ],
          "name": "stdout"
        }
      ]
    },
    {
      "cell_type": "markdown",
      "metadata": {
        "id": "sFSqWQDecBr2"
      },
      "source": [
        "# **Chuỗi con cân bằng**\n",
        "Cho một chuỗi s với độ dài n, chỉ chứa k kí tự đầu tiên của bảng chữ cái alphabet. Tất cả các kí tự của s đều được viết in hoa.\n",
        "\n",
        "Chuỗi con của chuỗi s là chuỗi có thể có được bằng cách xóa một số kí tự thuộc s và các kí tự còn lại không hề bị thay đổi vị trí. Chẳng hạn, 'ADE' và 'BD' là chuỗi con của 'ABCDE', trong khi 'DEA' thì không phải.\n",
        "\n",
        "Chuỗi con của s được gọi là cân bằng nếu tần số xuất hiện của k kí tự đầu tiên trong bảng chữ cái ở trong chuỗi này là như nhau.\n",
        "\n",
        "Tìm độ dài chuỗi con cân bằng dài nhất của s\n",
        "\n",
        "INPUT\n",
        "\n",
        "Dòng đầu tiên chứa n (1 ≤ n ≤ 105) và k (1 ≤ k ≤ 26)\n",
        "\n",
        "Dòng thứ 2 chứa chuỗi s\n",
        "\n",
        "OUTPUT\n",
        "\n",
        "Độ dài chuỗi con dài nhất thỏa điều kiện đề bài"
      ]
    },
    {
      "cell_type": "code",
      "metadata": {
        "id": "7BhodCxPcKp5",
        "outputId": "b8ff27ba-6561-410f-947d-21032cede976",
        "colab": {
          "base_uri": "https://localhost:8080/"
        }
      },
      "source": [
        "\n",
        "n, k = map(int, input().split())\n",
        "\n",
        "s = input()\n",
        "arr = [0 for x in range(30)]\n",
        "for x in s:\n",
        "    y = ord(x) - ord('A')\n",
        "    arr[y]+=1\n",
        "    \n",
        "ans = n\n",
        "for i in range(0, k):\n",
        "    ans = min(ans, arr[i])\n",
        "\n",
        "print(ans * k)"
      ],
      "execution_count": null,
      "outputs": [
        {
          "output_type": "stream",
          "text": [
            "9 3\n",
            "ACAABCCAB\n",
            "6\n"
          ],
          "name": "stdout"
        }
      ]
    },
    {
      "cell_type": "markdown",
      "metadata": {
        "id": "6mSPgwgbcKwX"
      },
      "source": [
        "# **Trộn dãy**\n",
        "Cho 2 dãy số nguyên a có na số và b có nb số, mỗi dãy đã được sắp xếp theo thứ tự tăng dần. Hãy trộn hai dãy này lại để kết quả cuối cùng là một dãy tăng dần với  các phần tử là các phần tử của a và b.\n",
        "\n",
        "INPUT\n",
        "\n",
        "Dòng đầu tiên chứa kích thước của hai mảng nhập vào na, nb (0 < na, nb <= 100000)\n",
        "\n",
        "Hai dòng tiếp theo lần lượt chứa các phần tử của mảng a và b\n",
        "\n",
        "OUTPUT"
      ]
    },
    {
      "cell_type": "code",
      "metadata": {
        "id": "dMrnXPaNc4WK",
        "outputId": "f08c5c59-f193-49a5-ca93-603c742f4bf4",
        "colab": {
          "base_uri": "https://localhost:8080/"
        }
      },
      "source": [
        "x,y = map(int, input().split())\n",
        "\n",
        "p = []\n",
        "p.append(input().split())\n",
        "b = [list(map(int, x)) for x in p]\n",
        "d = []\n",
        "for i in range(x):\n",
        "  d.append(b[0][i])\n",
        "\n",
        "q = []\n",
        "q.append(input().split())\n",
        "c = [list(map(int, x)) for x in q]\n",
        "e = []\n",
        "for i in range(y):\n",
        "  e.append(c[0][i])\n",
        "\n",
        "f = d + e\n",
        "\n",
        "f.sort()\n",
        "\n",
        "for i in range(len(f)):\n",
        "  print(f[i], end = ' ')"
      ],
      "execution_count": null,
      "outputs": [
        {
          "output_type": "stream",
          "text": [
            "5 3\n",
            "1 1 1 2 10\n",
            "3 4 100\n",
            "1 1 1 2 3 4 10 100 "
          ],
          "name": "stdout"
        }
      ]
    },
    {
      "cell_type": "markdown",
      "metadata": {
        "id": "d-mMWxNDcMsZ"
      },
      "source": [
        "# **Số có hậu**\n",
        "Jim thích các phim và truyện kết thúc có hậu. Một lần gặp may với số n và từ đó Jim rất có cảm tình với tất cả các số nguyên kết thúc bằng n, coi chúng là những số có hậu. Ví dụ với n = 25 thì các số 625, 553325,1025 là những số có hậu, còn 3255 – không có hậu!\n",
        "\n",
        "Jim không thích các ràng buộc và hạn chế. Nhưng trong thế giới thực của chúng ta ràng buộc và hạn chế là điều tất yếu. Một người bạn của Jim khuyên chỉ nên quan tâm đến các số nguyên không vượt quá m và dĩ nhiên, Jim muốn biết có bao nhiêu số có hậu không vượt quá m.\n",
        "\n",
        "Dữ liệu: Vào từ thiết bị nhập chuẩn gồm một dòng chứa 2 số nguyên n và m (1 ≤ n ≤ m ≤ 2×109).\n",
        "\n",
        "Kết quả: Đưa ra thiết bị xuất chuẩn một số nguyên – số lượng số có hậu tìm được."
      ]
    },
    {
      "cell_type": "code",
      "metadata": {
        "id": "71wHanjjcRhB",
        "outputId": "08553c4d-6702-4845-c492-bec62f4f6227",
        "colab": {
          "base_uri": "https://localhost:8080/"
        }
      },
      "source": [
        "n, m = map(int, input().split())\n",
        "\n",
        "tp = n\n",
        "x = 0\n",
        "y = 1\n",
        "while tp > 0:\n",
        "    x = (m % 10)*y + x\n",
        "    m = int(m / 10)\n",
        "    tp = int(tp / 10)\n",
        "    y = y * 10\n",
        "    \n",
        "\n",
        "if (x >= n):\n",
        "    m += 1\n",
        "print(m)"
      ],
      "execution_count": null,
      "outputs": [
        {
          "output_type": "stream",
          "text": [
            "23 122\n",
            "1\n"
          ],
          "name": "stdout"
        }
      ]
    },
    {
      "cell_type": "markdown",
      "metadata": {
        "id": "hMkZuPNOcRny"
      },
      "source": [
        "# **Số đối xứng**\n",
        "Một số nguyên dương ở hệ 10 được gọi là palindrome nếu đọc từ trái sang phải cũng giống như đọc từ phải sang trái.\n",
        "\n",
        "Cho số nguyên dương n có không quá 106 chữ số và không có các số 0 không có nghĩa. Hãy tìm số palindrome nhỏ nhất lớn hơn n.\n",
        "\n",
        "Dữ liệu: Vào từ thiết bị nhập chuẩn gồm một dòng chứa số nguyên n.\n",
        "\n",
        "Kết quả: Đưa ra thiết bị xuất chuẩn số tìm được."
      ]
    },
    {
      "cell_type": "code",
      "metadata": {
        "id": "CtdN0LxbcWKC",
        "outputId": "37538186-ea08-4b60-86bd-24c2b650deda",
        "colab": {
          "base_uri": "https://localhost:8080/"
        }
      },
      "source": [
        "\n",
        "N = 1000000\n",
        "s = input()\n",
        "n = len(s)\n",
        "m = int((n + 1) / 2)\n",
        "a = [0 for x in range(N)]\n",
        "\n",
        "\n",
        "for i in range(n):\n",
        "    a[i] = int(s[i])\n",
        "\n",
        "\n",
        "q = 0\n",
        "\n",
        "for i in range(m):\n",
        "    bi = m - 1 - i\n",
        "    ci = n - m + i\n",
        "    if (a[bi] > a[ci]):\n",
        "        q = 1\n",
        "        break\n",
        "    if (a[bi] < a[ci]):\n",
        "        q = 0\n",
        "        break\n",
        "\n",
        "if (q == 1):\n",
        "    for i in range(m):\n",
        "        print(a[i], end='')\n",
        "    for i in range(m-1-(n%2), 0-1, -1):\n",
        "        print(a[i], end='')\n",
        "else:\n",
        "\n",
        "    if (n == 1) & (a[0] == 9):\n",
        "        print(11)\n",
        "    else:\n",
        "        mem = 1\n",
        "        for i in range(m-1,0-1,-1):\n",
        "            mem = mem + a[i]\n",
        "            a[i] = mem % 10\n",
        "            mem = int (mem / 10)\n",
        "            if mem == 0:\n",
        "                break\n",
        "\n",
        "        if mem == 1:\n",
        "            print(1,end='')\n",
        "        for i in range(m):\n",
        "            print(a[i],end='')\n",
        "        for i in range(m-1-(n%2)-mem, 0-1, -1):\n",
        "            print(a[i],end='')\n",
        "        if mem == 1:\n",
        "            print(1,end='')"
      ],
      "execution_count": null,
      "outputs": [
        {
          "output_type": "stream",
          "text": [
            "365\n",
            "373"
          ],
          "name": "stdout"
        }
      ]
    }
  ]
}
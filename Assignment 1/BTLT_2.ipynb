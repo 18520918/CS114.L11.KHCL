{
  "nbformat": 4,
  "nbformat_minor": 0,
  "metadata": {
    "colab": {
      "name": "BTLT_2.ipynb",
      "provenance": [],
      "collapsed_sections": [],
      "authorship_tag": "ABX9TyMg6mzvo/ZW9xoFI6sXBZJQ",
      "include_colab_link": true
    },
    "kernelspec": {
      "name": "python3",
      "display_name": "Python 3"
    }
  },
  "cells": [
    {
      "cell_type": "markdown",
      "metadata": {
        "id": "view-in-github",
        "colab_type": "text"
      },
      "source": [
        "<a href=\"https://colab.research.google.com/github/18520918/CS114.L11.KHCL/blob/master/BTLT_2.ipynb\" target=\"_parent\"><img src=\"https://colab.research.google.com/assets/colab-badge.svg\" alt=\"Open In Colab\"/></a>"
      ]
    },
    {
      "cell_type": "markdown",
      "metadata": {
        "id": "wl4N9EYCX4xX"
      },
      "source": [
        "# **KÉO CẮT GIẤY**\n",
        "\n",
        "Để trang trí phòng phục vụ tổ chức sinh nhật cho một người bạn Alice lấy một tờ giấy màu thủ công kẻ ô vuông kích thước n×m (n hàng và m cột), cắt thành hình lò xo xoắn theo hướng phải sang trái và có độ rộng của đường bằng 1:\n",
        "\n",
        "Bắt đầu từ biên phải cột 0 cắt lên trên cho đến khi cách lề trên một ô,\n",
        "Cắt sang phải theo đường biên dưới cho đến khi cách lề phải một ô,\n",
        "Cắt xuống dưới, rồi sang trái, sau đó lên trên,  . . . để có băng giấy độ rộng 1 ô,\n",
        "Quá trình cắt sẽ dừng khi không cách cắt tiếp mà không làm đứt băng giấy.\n",
        "Hãy tính tổng độ dài đường cắt theo đơn vị ô.\n",
        "\n",
        "Dữ liệu: \n",
        ">Vào từ thiết bị nhập chuẩn gồm một dòng chứa 2 số nguyên n và m (2 ≤ n, m ≤ 109).\n",
        "\n",
        "Kết quả: \n",
        ">Đưa ra thiết bị xuất chuẩn một số nguyên – độ dài đường cắt."
      ]
    },
    {
      "cell_type": "code",
      "metadata": {
        "id": "shC1bsS2X8oC",
        "outputId": "08be3bf2-59c8-4657-9853-bd6ab44980eb",
        "colab": {
          "base_uri": "https://localhost:8080/"
        }
      },
      "source": [
        "a,b = input().split()\n",
        "n = int(a)\n",
        "m = int(b)\n",
        "kq = 0\n",
        "kq = (n-1)*(m-1)\n",
        "print(kq)"
      ],
      "execution_count": null,
      "outputs": [
        {
          "output_type": "stream",
          "text": [
            "3 4\n",
            "6\n"
          ],
          "name": "stdout"
        }
      ]
    },
    {
      "cell_type": "markdown",
      "metadata": {
        "id": "czBCf822YDIb"
      },
      "source": [
        "# **Số gần như may mắn**\n",
        "Số may mắn là các số nguyên dương chỉ chứa các chữ số là 4 hoặc 7.\n",
        "\n",
        "Bình thích sự may mắn, tuy nhiên số lượng số may mắn không nhiều. Chính vì thế, Bình định nghĩa ra một loại số mới, gọi là số gần may mắn với điều kiện số chữ số may mắn trong số đó là một số may mắn.\n",
        "\n",
        "INPUT\n",
        "> Một số nguyên dương n (n <= 1018).\n",
        "\n",
        "OUTPUT\n",
        "> In ra YES nếu số đó là một số gần may mắn, ngược lại in NO."
      ]
    },
    {
      "cell_type": "code",
      "metadata": {
        "id": "xdT7IlJSYIyd",
        "outputId": "d39f0f3b-10a4-461b-88ec-6b18e8bcf81d",
        "colab": {
          "base_uri": "https://localhost:8080/"
        }
      },
      "source": [
        "n = int(input())\n",
        "a = str(n)\n",
        "s = a.count('4')\n",
        "p = a.count('7')\n",
        "n = s + p\n",
        "if (n == 4 or n == 7 ):\n",
        "  print(\"YES\")\n",
        "else:\n",
        "  print(\"NO\")"
      ],
      "execution_count": null,
      "outputs": [
        {
          "output_type": "stream",
          "text": [
            "74734747\n",
            "YES\n"
          ],
          "name": "stdout"
        }
      ]
    },
    {
      "cell_type": "markdown",
      "metadata": {
        "id": "8BhapzHyYNJk"
      },
      "source": [
        "# **Ma trận cốt lõi**\n",
        "Bình có một ma trận 5x5, bao gồm 24 số không và 1 số một với thứ tự ngẫu nhiên. Chỉ số các hàng và cột của ma trận được đánh số lần lượt từ 1 đến 5.\n",
        "\n",
        "Bình là một người rất kĩ tính và chỉ thích những thứ gì cân bằng và đồng đều. Chính vì vậy, anh ấy chỉ thích các ma trận mà có vị trí số một nằm ở giữa. Các bước hợp lệ để thay đổi một ma trận bao gồm: hoán vị hai hàng liền kề của ma trận và hoán vị hai cột liền kề của ma trận.\n",
        "\n",
        "Hãy giúp Bình tìm số bước hợp lệ tối thiểu để biến một ma trận thỏa mãn sở thích của anh ấy.\n",
        "\n",
        "INPUT\n",
        "> Một ma trận 5x5 chứa 24 số không và 1 số một.\n",
        "\n",
        "OUTPUT\n",
        "> Số bước hợp lệ tối thiểu để biến đổi ma trận."
      ]
    },
    {
      "cell_type": "code",
      "metadata": {
        "id": "9_vtbJ11YQ7X",
        "outputId": "8ddbfe65-b6a1-4c1f-e857-93de0539e24e",
        "colab": {
          "base_uri": "https://localhost:8080/"
        }
      },
      "source": [
        "a = [[0]*5 for _ in range(5)]\n",
        "for i in range(5):\n",
        "    a[i] = [int(j) for j in input().strip().split(\" \")]\n",
        "\n",
        "for i in range(5):\n",
        "  for j in range(5):\n",
        "    if a[i][j] == 1:\n",
        "        print(abs(i-2)+abs(j-2))"
      ],
      "execution_count": null,
      "outputs": [
        {
          "output_type": "stream",
          "text": [
            "0 0 0 0 0\n",
            "0 0 0 0 1\n",
            "0 0 0 0 0\n",
            "0 0 0 0 0\n",
            "0 0 0 0 0\n",
            "3\n"
          ],
          "name": "stdout"
        }
      ]
    },
    {
      "cell_type": "markdown",
      "metadata": {
        "id": "1DcIJ8qPYRpN"
      },
      "source": [
        "# X**ếp que diêm**\n",
        "Một phương trình đúng (PTĐ) được định nghĩa là phương trình có dạng a+b=c\n",
        ", trong đó \n",
        "a\n",
        ",\n",
        "b\n",
        ",\n",
        "c\n",
        ">\n",
        "0\n",
        ".\n",
        "\n",
        "Ví dụ: phương trình 2+2=4\n",
        " (| | + | | = | | | |) và 1+2=3\n",
        " (| + | | = | | |) là PTĐ.\n",
        "\n",
        "Còn \n",
        "1+2=4\n",
        " (| + | | = | | | |), \n",
        "2+2=3\n",
        " (| | + | | = | | |) và \n",
        "0+1=1\n",
        " ( + | = |) không phải là PTĐ.\n",
        "\n",
        "Bây giờ bạn có \n",
        "n\n",
        " que diêm. Bạn muốn sử dụng tất cả số que diêm đó để xếp thành một PTĐ. Không may thay, có một số trường hợp bạn không thể xếp được nếu bạn dùng tất cả \n",
        "n\n",
        " que diêm. Nhưng nếu bạn ra chợ mua thêm \n",
        "k\n",
        " que diêm nữa thì bạn có thể xếp được.\n",
        "\n",
        "Ví dụ, n=2\n",
        ", bạn cần mua thêm 2 cây diêm nữa để xếp thành | + | = | |.\n",
        "\n",
        "n=5\n",
        ", bạn cần mua thêm 1 cây diêm nữa để xếp thành | | + | = | | |.\n",
        "\n",
        "                             \n",
        "\n",
        "Nhiệm vụ của bạn là tìm ra số que diêm cần mua ít nhất để có thể xếp thành PTĐ.\n",
        "\n",
        "INPUT:\n",
        "\n",
        "> Dòng đầu tiên là một số nguyên q(1≤q≤100)\n",
        " — số lượng testcase. \n",
        "\n",
        "q\n",
        " dòng tiếp theo, mỗi dòng là một số nguyên \n",
        "n\n",
        " \n",
        "(\n",
        "2\n",
        "≤\n",
        "n\n",
        "≤\n",
        "10\n",
        "9\n",
        ")\n",
        " — số lượng que diêm có ban đầu.\n",
        "\n",
        "OUTPUT:\n",
        "\n",
        "> Với mỗi testcase xuất ra trên một dòng số lượng que diêm tối thiểu cần phải mua để có thể xếp thành PTĐ."
      ]
    },
    {
      "cell_type": "code",
      "metadata": {
        "id": "sgivCQQGYs6g",
        "outputId": "559df3c5-117b-4338-98bb-155c0960ed17",
        "colab": {
          "base_uri": "https://localhost:8080/"
        }
      },
      "source": [
        "n = int(input())\n",
        "a = []\n",
        "\n",
        "for i in range(n):\n",
        "    a.append(int(input()))\n",
        "\n",
        "for i in range(n):\n",
        "  if a[i] < 4:\n",
        "    print(4-a[i])\n",
        "  elif a[i] % 2 != 0:\n",
        "    print(1)\n",
        "  else:\n",
        "    print(0)\n",
        "\n"
      ],
      "execution_count": null,
      "outputs": [
        {
          "output_type": "stream",
          "text": [
            "4\n",
            "2\n",
            "5\n",
            "8\n",
            "11\n",
            "2\n",
            "1\n",
            "0\n",
            "1\n"
          ],
          "name": "stdout"
        }
      ]
    },
    {
      "cell_type": "markdown",
      "metadata": {
        "id": "yI9DqXJsYtJu"
      },
      "source": [
        "# **Rạp phim**\n",
        "Một rạp phim có diện tích sàn là n x m. Nhân lễ kỉ niệm, người ta cần lót gạch cho sàn của rạp bằng các viên gạch hình vuông với cạnh có kích thước là a. Xác định số lượng viên gạch cần ít nhất để phủ toàn bộ sàn, biết rằng diện tích toàn bộ số gạch được dùng có thể lớn hơn diện tích thực tế của sàn và các viên gạch phải được giữ nguyên, không được cắt ra.\n",
        "\n",
        "INPUT\n",
        "> Ba số nguyên dương n, m, a\n",
        "\n",
        "OUTPUT\n",
        "> Số lượng gạch ít nhất cần để lót sàn."
      ]
    },
    {
      "cell_type": "code",
      "metadata": {
        "id": "RsSnv8aDYyD0",
        "outputId": "82f5e2e1-bfe0-4054-d663-39b3165c6458",
        "colab": {
          "base_uri": "https://localhost:8080/"
        }
      },
      "source": [
        "a,b,c = input().split()\n",
        "a = int(a)\n",
        "b = int(b)\n",
        "c = int(c)\n",
        "cd = 0\n",
        "cr = 0\n",
        "if a/c > int(a/c):\n",
        "  cd = int(a/c)+1\n",
        "else:\n",
        "  cd = int(a/c)\n",
        "if b/c > int(b/c):\n",
        "  cr = int(b/c)+1\n",
        "else:\n",
        "  cr = int(b/c)\n",
        "\n",
        "kq = cd*cr\n",
        "print(kq)"
      ],
      "execution_count": null,
      "outputs": [
        {
          "output_type": "stream",
          "text": [
            "6 6 4\n",
            "4\n"
          ],
          "name": "stdout"
        }
      ]
    },
    {
      "cell_type": "markdown",
      "metadata": {
        "id": "dehLqlSxYycp"
      },
      "source": [
        "# **Dưa Hấu**\n",
        "An và Bình rất thích ăn dưa hấu vì thế họ đi ra chợ chọn mua một trái to và chín nhất.  Về đến nhà, một vấn đề nảy sinh đó là việc chia phần trái dưa hấu cho cả 2, không chỉ thế, do 2 người bạn chỉ thích những con số chẵn, vì thế cần chia quả dưa hấu làm sao cho mỗi phần có khối lượng là một con số chẵn. Hãy giúp An và Bình kiểm tra xem có thể chia quả dưa hấu này hay không.\n",
        "\n",
        "INPUT\n",
        ">Một số nguyên không âm\n",
        "\n",
        "OUTPUT\n",
        ">Xuất YES nếu có thể chia, ngược lại NO"
      ]
    },
    {
      "cell_type": "code",
      "metadata": {
        "id": "aIV9zxWMZIPe",
        "outputId": "721ab953-593a-4d64-8411-cf02d56776b6",
        "colab": {
          "base_uri": "https://localhost:8080/"
        }
      },
      "source": [
        "n = int(input())\n",
        "if n % 2 == 0 and n > 2:\n",
        "  print(\"YES\")\n",
        "else:\n",
        "  print(\"NO\")"
      ],
      "execution_count": null,
      "outputs": [
        {
          "output_type": "stream",
          "text": [
            "8\n",
            "YES\n"
          ],
          "name": "stdout"
        }
      ]
    },
    {
      "cell_type": "markdown",
      "metadata": {
        "id": "KRYLGpOoZIV2"
      },
      "source": [
        "# **Số nguyên tố lớn thứ 2**\n",
        "\n",
        "Số nguyên tố là số nguyên lớn hơn 1, chỉ chia hết cho 1 và chính nó.\n",
        "\n",
        "Yêu cầu: cho số nguyên dương N, hãy chỉ ra số nguyên tố lớn thứ 2 không vượt quá N.\n",
        "\n",
        "Ví dụ: với N = 10, số nguyên tố lớn thứ 2 không vượt quá 10 là 5\n",
        "\n",
        "INPUT\n",
        "> Dữ liệu nhập từ thiết bị nhập chuẩn gồm 1 số nguyên dương N (3 < N ≤ 1014)\n",
        "\n",
        "OUTPUT\n",
        "> Kết quả ghi ra thiết bị xuất chuẩn số tìm được."
      ]
    },
    {
      "cell_type": "code",
      "metadata": {
        "id": "oQodpLJcZQfY",
        "outputId": "d31f5e43-8e9b-438f-c8da-fe890d5a46d9",
        "colab": {
          "base_uri": "https://localhost:8080/"
        }
      },
      "source": [
        "n = int(input())\n",
        "import math\n",
        "\n",
        "def is_prime(n):\n",
        "    if n == 2:\n",
        "        return True\n",
        "    if n % 2 == 0 or n <= 1:\n",
        "        return False\n",
        "\n",
        "    sqr = int(math.sqrt(n)) + 1\n",
        "\n",
        "    for divisor in range(3, sqr, 2):\n",
        "        if n % divisor == 0:\n",
        "            return False\n",
        "    return True\n",
        "\n",
        "\n",
        "dem = 0\n",
        "for i in reversed(range(n+1)):\n",
        "  if is_prime(i):\n",
        "    dem = dem + 1\n",
        "  if dem == 2:\n",
        "    print(i)\n",
        "    break  "
      ],
      "execution_count": null,
      "outputs": [
        {
          "output_type": "stream",
          "text": [
            "10\n",
            "5\n"
          ],
          "name": "stdout"
        }
      ]
    },
    {
      "cell_type": "markdown",
      "metadata": {
        "id": "pSWTabCpZQmg"
      },
      "source": [
        "# **Bán Hàng**\n",
        "Nam đang là quản lí một cửa hàng nhỏ trong thị trấn. Cửa hàng của Nam có \n",
        "n\n",
        " hàng hóa, mỗi hàng hóa thứ \n",
        "i\n",
        " có giá \n",
        "a\n",
        "i\n",
        " đồng,\n",
        "\n",
        "Mỗi ngày, có rất nhiều khách hàng ghé cửa hàng của Nam và liên tục hỏi giá của từng sản phẩm. Do có quá nhiều hàng hóa nên Nam không thể nào nhớ hết giá của chúng. Vì thế, Nam đã quyết định bán đồng giá tất cả các hàng hóa trong cửa hàng của mình.\n",
        "\n",
        "Tuy nhiên, để không lỗ vốn, Nam muốn sau khi tất cả \n",
        "n\n",
        "  hàng hóa trong cửa hàng được bán hết thì thu được tổng số tiền bằng (hoặc lớn hơn) so với tổng giá hàng hóa bán với giá gốc.\n",
        "\n",
        "Mặt khác, Nam không muốn mất khách nếu giá bán quá lớn. Vì vậy, Nam phải bán \n",
        "n\n",
        " hàng hóa với giá tối thiểu sao cho tổng số tiền thu được sau khi bán hết hàng hóa có trong cửa hàng phải bằng (hoặc lớn hơn tối thiểu) so với tổng giá hàng hóa bán với giá gốc.\n",
        "\n",
        "Với mỗi testcase các bạn hãy giúp Nam tìm ra giá bán phù hợp.\n",
        "\n",
        "INPUT:\n",
        "\n",
        "> Dòng đầu tiên là một số nguyên q (1≤q≤100)\n",
        "— số lượng testcase. Theo sau mỗi \n",
        "q dòng là: <br>\n",
        "> Dòng đầu tiên của testcase là một số nguyên n  (1≤q≤100)\n",
        " — số lượng hàng hóa. Dòng thứ hai gồm \n",
        "n số nguyên \n",
        "a\n",
        "1\n",
        ",\n",
        "a\n",
        "2\n",
        ",\n",
        ".\n",
        ".\n",
        ".\n",
        ",\n",
        "a\n",
        "n\n",
        "(\n",
        "1\n",
        "≤\n",
        "a\n",
        "i\n",
        "≤\n",
        "10\n",
        "7\n",
        ")\n",
        " —  \n",
        "a\n",
        "i\n",
        " giá gốc của hàng hóa thứ \n",
        "i\n",
        ".\n",
        "\n",
        "OUTPUT:\n",
        "\n",
        "> Với mỗi testcase in ra giá bán đồng giá tối thiểu của \n",
        "n\n",
        " hàng hóa sao cho tổng số tiền thu được sau khi bán hết hàng hóa có trong cửa hàng phải bằng (hoặc lớn hơn tối thiểu) so với tổng giá hàng hóa bán với giá gốc."
      ]
    },
    {
      "cell_type": "code",
      "metadata": {
        "id": "quYLLcstZn6c",
        "outputId": "b13807cf-0d15-4312-9f22-50b75d040c9b",
        "colab": {
          "base_uri": "https://localhost:8080/"
        }
      },
      "source": [
        "\n",
        "n = int(input())\n",
        "count = 0\n",
        "a = []\n",
        "p = []\n",
        "while count < n:\n",
        "  s = int(input())\n",
        "  a.append(s)\n",
        "  p.append(input().split())\n",
        "  count += 1\n",
        "\n",
        "b = [list(map(int, x)) for x in p]\n",
        "c = []\n",
        "for i in range(len(b)):\n",
        "  t = sum(b[i])\n",
        "  c.append(t)\n",
        "\n",
        "for i in range(len(a)):\n",
        "  s = c[i]/a[i]\n",
        "  if s > int(s):\n",
        "    print(int(c[i]/a[i] + 1))\n",
        "  else:\n",
        "    print(int(c[i]/a[i]))\n",
        "  \n",
        "  \n",
        "\n"
      ],
      "execution_count": null,
      "outputs": [
        {
          "output_type": "stream",
          "text": [
            "1\n",
            "2\n",
            "777 778\n",
            "778\n"
          ],
          "name": "stdout"
        }
      ]
    },
    {
      "cell_type": "markdown",
      "metadata": {
        "id": "442ut2BfZoDO"
      },
      "source": [
        "# **Số Armstrong**\n",
        "Kiểm tra Số Armstrong (Số Armstrong là số có K chữ số và tổng lũy thừa bậc K của các chữ số bằng chính nó)\n",
        "\n",
        "INPUT\n",
        ">Một số nguyên không âm\n",
        "\n",
        "OUTPUT\n",
        ">Xuất True nếu số nhập vào là số Armstrong, ngược lại False"
      ]
    },
    {
      "cell_type": "code",
      "metadata": {
        "id": "KYdk4AZFZsDW",
        "outputId": "f5f50032-605a-4666-9a9e-005f8ee3c505",
        "colab": {
          "base_uri": "https://localhost:8080/"
        }
      },
      "source": [
        "s = input()\n",
        "\n",
        "n = len(s)\n",
        "\n",
        "s = int(s)\n",
        "m = s\n",
        "tmp = 0\n",
        "while s > 0:\n",
        "    x = s % 10\n",
        "    s = int(s / 10)\n",
        "    tmp = tmp + int(pow(x, n))\n",
        "\n",
        "\n",
        "if tmp == m:\n",
        "    print(\"True\")\n",
        "else:\n",
        "    print(\"False\")"
      ],
      "execution_count": null,
      "outputs": [
        {
          "output_type": "stream",
          "text": [
            "153\n",
            "True\n"
          ],
          "name": "stdout"
        }
      ]
    },
    {
      "cell_type": "markdown",
      "metadata": {
        "id": "c3MWUeJAZsK3"
      },
      "source": [
        "# **Rút gọn phân số**\n",
        "Viết chương trình rút gọn phân số.\n",
        "\n",
        "**INPUT**\n",
        "\n",
        "Dòng đầu tiên là một số nguyên \n",
        "n\n",
        " \n",
        "(\n",
        "1\n",
        "≤\n",
        "n\n",
        "≤\n",
        "100\n",
        ")\n",
        " — Số lượng phân số cần rút gọn\n",
        "\n",
        "n\n",
        " dòng tiếp theo là hai số nguyên \n",
        "a\n",
        ",\n",
        "b\n",
        "(\n",
        "a\n",
        ",\n",
        "b\n",
        "≥\n",
        "1\n",
        ")\n",
        " — \n",
        "a\n",
        ",\n",
        "b\n",
        " lần lượt là tử số và mẫu số.\n",
        "\n",
        "**OUTPUT**\n",
        "\n",
        "Ứng với \n",
        "n\n",
        " dòng, in ra theo thứ tự tử số và mẫu số (cách nhau một khoảng trắng) sau khi rút gọn; mẫu số chỉ được in khi lớn hơn 1."
      ]
    },
    {
      "cell_type": "code",
      "metadata": {
        "id": "WibUoXjnZyOu",
        "outputId": "094e1d4b-a74e-44f1-d04b-11668663b020",
        "colab": {
          "base_uri": "https://localhost:8080/"
        }
      },
      "source": [
        "from fractions import Fraction as F\n",
        "n = int(input())\n",
        "for i in range(n):\n",
        "  x, y = map(int,input().split())\n",
        "  S= str(F(x,y))\n",
        "  a = S.replace('/',' ')\n",
        "  print(a)"
      ],
      "execution_count": null,
      "outputs": [
        {
          "output_type": "stream",
          "text": [
            "2\n",
            "77 105\n",
            "11 15\n",
            "121 11\n",
            "11\n"
          ],
          "name": "stdout"
        }
      ]
    },
    {
      "cell_type": "markdown",
      "metadata": {
        "id": "3RNlTh5hZyXR"
      },
      "source": [
        ""
      ]
    }
  ]
}

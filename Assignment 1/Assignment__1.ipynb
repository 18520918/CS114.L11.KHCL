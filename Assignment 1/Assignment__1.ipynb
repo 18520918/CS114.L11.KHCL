{
  "nbformat": 4,
  "nbformat_minor": 0,
  "metadata": {
    "colab": {
      "name": "Assignment_#1.ipynb",
      "provenance": [],
      "authorship_tag": "ABX9TyMdjFBsXpskpCKq/LrmYv4a",
      "include_colab_link": true
    },
    "kernelspec": {
      "name": "python3",
      "display_name": "Python 3"
    }
  },
  "cells": [
    {
      "cell_type": "markdown",
      "metadata": {
        "id": "view-in-github",
        "colab_type": "text"
      },
      "source": [
        "<a href=\"https://colab.research.google.com/github/18520918/CS114.L11.KHCL/blob/master/Assignment%201/Assignment__1.ipynb\" target=\"_parent\"><img src=\"https://colab.research.google.com/assets/colab-badge.svg\" alt=\"Open In Colab\"/></a>"
      ]
    },
    {
      "cell_type": "markdown",
      "metadata": {
        "id": "8oAe5eb24P64"
      },
      "source": [
        "#**ONLINE GAME**.<br>\n",
        "Khi làm việc với yêu cầu tìm kiếm, chúng ta có thể sử dụng thuật toán tìm kiếm nhị phân. Tuy nhiên thuật toán tìm kiếm nhị phân chỉ có thể chạy trên cấu trúc dữ liệu mảng và mảng đó phải được sắp xếp thứ tự. Việc sắp xếp thường có độ phức tạp khá cao, điển hình là trong trường hợp sau đây:\n",
        "\n",
        "Giả định công ty NaViGame đang duy trì một hệ thống server rất lớn đáp ứng cho hàng chục triệu acccount của các game thủ. Hệ thông server này duy trì một danh sách các game thủ đang online cho phép nhà quản trị có thể kiểm tra xem một game thủ bất kỳ nào đó có đang online hay không. Hãy giúp công ty NaViGame xây dựng module kiểm tra game thủ online này.\n",
        "\n",
        "**INPUT**<br>\n",
        "Mỗi dòng của input chứa hai con số a và b. Số a có giá trị là 1 hoặc 2 đại diện cho hai tình huống là có game thủ đăng nhập vào hệ thống và người quản trị vừa nhập một yêu cầu kiểm tra. Số b là mã số của game thủ trong tình huống đó (giá trị b không quá 1 tỷ).\n",
        "\n",
        "**Ví dụ như dòng**: 1 565481 cho biết game thủ với mã số 465481 vừa mới đăng nhập vào hệ thống\n",
        "\n",
        "**dòng**: 2 87126 cho biết người quản trị muốn kiểm tra xem game thủ với mã số 87126 có đang online trong hệ thống hay không.\n",
        "\n",
        "Input sẽ kết thúc bằng dòng chỉ chứa một số 0.\n",
        "\n",
        "**OUTPUT**<br>\n",
        "Ứng với mỗi yêu cầu kiểm tra của nhà quản trị xuất ra trên một dòng giá trị 0 nếu game thủ đó không online. Nếu game thủ đang online, xuất ra 1\n",
        "\n",
        "**VÍ DỤ**:<br>\n",
        "\n",
        "|Input|Output|\n",
        "|---|---|\n",
        "|1 1 |0 |\n",
        "|1 2 | 1|\n",
        "|1 3|  |\n",
        "|2 4|  |\n",
        "|2 1|  |\n",
        "|1 5|  |\n",
        "|0|  |\n",
        "\n"
      ]
    },
    {
      "cell_type": "code",
      "metadata": {
        "id": "E6be-NGWNVWZ",
        "outputId": "56e08a63-7b8c-47e5-e33d-a2671aa5afb5",
        "colab": {
          "base_uri": "https://localhost:8080/"
        }
      },
      "source": [
        "online = dict()\n",
        "ans = []\n",
        "while True:\n",
        "  s = input().split()\n",
        "  if s[0] == '1':\n",
        "    online[s[1]] = \"\"\n",
        "    #print(online)\n",
        "  elif s[0] == '2' and s[1] not in online.keys():\n",
        "      ans.append(0)\n",
        "  elif s[0] == '2' and s[1] in online.keys():\n",
        "      ans.append(1)\n",
        "  else:\n",
        "    break\n",
        "for i in range(len(ans)):\n",
        "  print(ans[i])"
      ],
      "execution_count": 1,
      "outputs": [
        {
          "output_type": "stream",
          "text": [
            "1 2\n",
            "2 3\n",
            "1 44\n",
            "1 5\n",
            "2 5\n",
            "2 1\n",
            "2 2\n",
            "1 3\n",
            "0\n",
            "0\n",
            "1\n",
            "0\n",
            "1\n"
          ],
          "name": "stdout"
        }
      ]
    },
    {
      "cell_type": "markdown",
      "metadata": {
        "id": "Nkj2MkpRNloE"
      },
      "source": [
        "**Bình luận**: Với mỗi lần nhập có dạng \"a b\" thì khi a = 1 thì sẽ thêm vào từ điển có sẵn giá trị b tương ứng, khi a = 2 thì sẽ kiểm tra giá trị b có tồn tại trong tử điển hay không."
      ]
    }
  ]
}
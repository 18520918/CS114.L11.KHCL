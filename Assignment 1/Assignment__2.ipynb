{
  "nbformat": 4,
  "nbformat_minor": 0,
  "metadata": {
    "colab": {
      "name": "Assignment_#2.ipynb",
      "provenance": [],
      "authorship_tag": "ABX9TyOib/AHs1s3Su2AlxiARYfg",
      "include_colab_link": true
    },
    "kernelspec": {
      "name": "python3",
      "display_name": "Python 3"
    }
  },
  "cells": [
    {
      "cell_type": "markdown",
      "metadata": {
        "id": "view-in-github",
        "colab_type": "text"
      },
      "source": [
        "<a href=\"https://colab.research.google.com/github/18520918/CS114.L11.KHCL/blob/master/Assignment%201/Assignment__2.ipynb\" target=\"_parent\"><img src=\"https://colab.research.google.com/assets/colab-badge.svg\" alt=\"Open In Colab\"/></a>"
      ]
    },
    {
      "cell_type": "markdown",
      "metadata": {
        "id": "1ejI9EAfeCap"
      },
      "source": [
        "# **Đếm node lá**\n",
        "\n",
        "Cho một dãy số, hãy cho biết số node lá của cây nhị phân tìm kiếm thu được khi thêm lần lượt các số trong dãy vào cây.\n",
        "\n",
        "INPUT\n",
        ">Một dãy số nguyên khác 0, mỗi số trên một hàng. Dãy số tận cùng bằng số 0\n",
        "\n",
        "OUTPUT\n",
        ">Số node lá trong cây\n",
        "\n",
        "VÍ DỤ\n",
        "\n",
        "|INPUT|OUTPUT|\n",
        "|--|--|\n",
        "|393| 5|\n",
        "|981| |\n",
        "|841| |\n",
        "|133| |\n",
        "|891| |\n",
        "|739| |\n",
        "|663| |\n",
        "|119| |\n",
        "|497| |\n",
        "|865| |\n",
        "|54| |\n",
        "|631| |\n",
        "|561| |\n",
        "|51| |\n",
        "|227| |\n",
        "|841| |\n",
        "|352| |\n",
        "|996| |\n",
        "|505| |\n",
        "|0| |\n"
      ]
    },
    {
      "cell_type": "code",
      "metadata": {
        "id": "zCXPj3Kqd86R",
        "outputId": "741d250c-cb51-4001-d5bc-4f75c2b44092",
        "colab": {
          "base_uri": "https://localhost:8080/"
        }
      },
      "source": [
        "class Node:  \n",
        "    def __init__(self, data): \n",
        "        self.data = data  \n",
        "        self.left = None\n",
        "        self.right = None\n",
        "\n",
        "    def insert(self, data):\n",
        "        if self.data:\n",
        "            if data < self.data:\n",
        "                if self.left is None:\n",
        "                    self.left = Node(data)\n",
        "                else:\n",
        "                    self.left.insert(data)\n",
        "            elif data > self.data:\n",
        "                if self.right is None:\n",
        "                    self.right = Node(data)\n",
        "                else:\n",
        "                    self.right.insert(data)\n",
        "        else:\n",
        "            self.data = data\n",
        "\n",
        "def count_leaf(node): \n",
        "    if node is None: \n",
        "        return 0 \n",
        "    if(node.left is None and node.right is None): \n",
        "        return 1 \n",
        "    else: \n",
        "        return count_leaf(node.left) + count_leaf(node.right) \n",
        "  \n",
        "  \n",
        "s = int(input())\n",
        "root = Node(s)\n",
        "while True:\n",
        "  p = int(input())\n",
        "  if p == 0:\n",
        "    break\n",
        "  else:\n",
        "    root.insert(p)\n",
        "  \n",
        "print(count_leaf(root)) "
      ],
      "execution_count": 2,
      "outputs": [
        {
          "output_type": "stream",
          "text": [
            "5\n",
            "1\n",
            "3\n",
            "8\n",
            "0\n",
            "2\n"
          ],
          "name": "stdout"
        }
      ]
    },
    {
      "cell_type": "markdown",
      "metadata": {
        "id": "QM9m-R2TerbO"
      },
      "source": [
        "**Bình luận**:"
      ]
    },
    {
      "cell_type": "markdown",
      "metadata": {
        "id": "BuJJ-jV_etRG"
      },
      "source": [
        "#**chiều cao cây**\n",
        "Bạn Bình đã làm xong bài danh sách liên kết giờ chuyển qua bài cây nhị phân tìm kiếm. Hỏi nếu Bình đem danh sách đó nhập vào cây nhị phân tìm kiếm thì cây cao bao nhiêu?\n",
        "\n",
        "INPUT\n",
        ">Input gồm nhiều dòng, mỗi dòng sẽ có cấu trúc ở 1 trong 4 dạng sau:\n",
        ">>Dạng 0: Dòng bắt đầu bằng con số 0, theo sau là một số nguyên dương < 1000, chương trình cần phải thêm con số này vào đầu danh sách<br>\n",
        ">>Dạng 1: Dòng này bắt đầu bằng con số 1, theo sau là một số nguyên dương < 1000, chương trình cần phải thêm con số này vào cuối danh sách<br>\n",
        ">>Dạng 2: Dòng này bắt đầu bằng con số 2, theo sau là 2 số nguyên a, b < 1000, chương trình cần tìm vị trí đầu tiên mà số a xuất hiện trong danh sách, sau đó thêm số b vào sau số này. Nếu số a không có trong danh sách, thêm b vào đầu danh <br>\n",
        ">>Dạng 3: Dòng này bao gồm duy nhất một con số 3. Đây là dòng cuối cùng trong input, báo hiệu input kết thúc\n",
        "\n",
        "\n",
        "OUTPUT:\n",
        ">Chiều cao của cây nhị phân tìm kiếm thu được khi lần lượt thêm các số trong danh sách vào cây.\n",
        "\n",
        "Ví dụ:\n",
        "\n",
        "|INPUT|OUTPUT|\n",
        "|--|--|\n",
        "1 1|4 |\n",
        "0 8| |\n",
        "1 4| |\n",
        "1 0| |\n",
        "1 5| |\n",
        "1 9| |\n",
        "0 6| |\n",
        "3| |"
      ]
    },
    {
      "cell_type": "code",
      "metadata": {
        "id": "5w0Zolq-fF5i",
        "outputId": "ad9f350d-b409-40f0-e69f-12de262c9021",
        "colab": {
          "base_uri": "https://localhost:8080/"
        }
      },
      "source": [
        "from collections import deque\n",
        "\n",
        "class Node:  \n",
        "    def __init__(self, data): \n",
        "        self.data = data  \n",
        "        self.left = None\n",
        "        self.right = None\n",
        "\n",
        "    def insert(self, data):\n",
        "        if self.data:\n",
        "            if data < self.data:\n",
        "                if self.left is None:\n",
        "                    self.left = Node(data)\n",
        "                else:\n",
        "                    self.left.insert(data)\n",
        "            elif data > self.data:\n",
        "                if self.right is None:\n",
        "                    self.right = Node(data)\n",
        "                else:\n",
        "                    self.right.insert(data)\n",
        "        else:\n",
        "            self.data = data\n",
        "\n",
        "def height(root):\n",
        "    if root is None:\n",
        "        return 0\n",
        "    return max(height(root.left), height(root.right)) + 1\n",
        "\n",
        "d = deque()\n",
        "while True:\n",
        "  s = input().split()\n",
        "  if s[0] == '0':\n",
        "    d.appendleft(s[1])\n",
        "  elif s[0] == '1':\n",
        "    d.append(s[1])\n",
        "  elif s[0] == '2':\n",
        "    if s[1] not in d:\n",
        "      d.appendleft(s[2])\n",
        "    else:\n",
        "      d.insert(d.index(s[1]),s[2])\n",
        "  else:\n",
        "    break\n",
        "\n",
        "root = Node(d[0])\n",
        "for i in range(1,len(d)):\n",
        "    root.insert(d[i])\n",
        " \n",
        "\n",
        "print(height(root))"
      ],
      "execution_count": 4,
      "outputs": [
        {
          "output_type": "stream",
          "text": [
            "1 1\n",
            "0 8\n",
            "1 4\n",
            "1 0\n",
            "1 5\n",
            "1 9\n",
            "0 6\n",
            "3\n",
            "4\n"
          ],
          "name": "stdout"
        }
      ]
    },
    {
      "cell_type": "markdown",
      "metadata": {
        "id": "Pf7BVngCfT9E"
      },
      "source": [
        "**Bình luận**:"
      ]
    },
    {
      "cell_type": "markdown",
      "metadata": {
        "id": "G9kZYr2HfYc_"
      },
      "source": [
        "#**Duyệt cây theo chiều rộng**\n",
        "Cho một dãy số. Lần lượt thêm các số trong dãy vào một cây nhị phân tìm kiếm, sau đó duyệt và xuất cây ra màn hình theo thứ tự duyệt theo chiều rộng (các node có mức thấp được xuất trước, đối với các node có cùng mức xuất node có giá trị nhỏ trước)\n",
        "\n",
        "INPUT\n",
        ">Một dãy số nguyên khác 0, mỗi số trên một hàng. Dãy số tận cùng bằng số 0\n",
        "\n",
        "OUTPUT\n",
        ">Xuất trên một hàng giá trị các node trên cây khi duyệt theo chiều rộng\n",
        "\n",
        "VÍ DỤ\n",
        "\n",
        "|INPUT|OUTPUT|\n",
        "|--|--|\n",
        "393| 393 133 981 119 227 841 996 54 352 739 891 51 663 865 497 631 561 505|\n",
        "981| |\n",
        "841| |\n",
        "133| |\n",
        "891| |\n",
        "739| |\n",
        "663| |\n",
        "119| |\n",
        "497| |\n",
        "865| |\n",
        "54| |\n",
        "631| |\n",
        "561| |\n",
        "51| |\n",
        "227| |\n",
        "841| |\n",
        "352| |\n",
        "996| |\n",
        "505| |\n",
        "0| |\n",
        "\n"
      ]
    },
    {
      "cell_type": "code",
      "metadata": {
        "id": "Z6MXgEdIftls",
        "outputId": "b59d258b-8afd-4329-f48c-7ae0e385e5bf",
        "colab": {
          "base_uri": "https://localhost:8080/"
        }
      },
      "source": [
        "class Tree:\n",
        "    def __init__(node,data):\n",
        "        node.data = data\n",
        "        node.right = None\n",
        "        node.left = None\n",
        "    def insert(node,data):\n",
        "        if (node.data is None):\n",
        "            node.data = data\n",
        "        else:\n",
        "            if( data < node.data ):\n",
        "                if (node.left is None): \n",
        "                    node.left = Tree(data)\n",
        "                else:\n",
        "                    node.left.insert(data)\n",
        "            elif( data > node.data ):\n",
        "                if ( node.right is None):\n",
        "                    node.right = Tree(data)\n",
        "                else:\n",
        "                    node.right.insert(data)\n",
        "\n",
        "    def height(node,root):\n",
        "        if (root is None):\n",
        "            return 0\n",
        "        else:\n",
        "            l_subtree = node.height(root.left)\n",
        "            r_subtree= node.height(root.right)\n",
        "            return max(l_subtree,r_subtree)+1\n",
        "\n",
        "    def traversal(node,root,level):\n",
        "        if root==None:\n",
        "            return\n",
        "        elif level==0:\n",
        "            print(root.data,end = ' ')\n",
        "        elif level >0:\n",
        "            node.traversal(root.left,level-1)\n",
        "            node.traversal(root.right,level-1)\n",
        "\n",
        "    def Print(node,root):\n",
        "        \n",
        "        height = node.height(root)\n",
        "        for i in range(0,height):\n",
        "            node.traversal(root,i)\n",
        "\n",
        "    \n",
        "\n",
        "s = int(input())\n",
        "root = Tree(s)\n",
        "while True:\n",
        "  p = int(input())\n",
        "  if p == 0:\n",
        "    break\n",
        "  else:\n",
        "    root.insert(p)\n",
        "  \n",
        "root.Print(root)\n",
        "    "
      ],
      "execution_count": 5,
      "outputs": [
        {
          "output_type": "stream",
          "text": [
            "5\n",
            "2\n",
            "4\n",
            "1\n",
            "6\n",
            "9\n",
            "0\n",
            "5 2 6 1 4 9 "
          ],
          "name": "stdout"
        }
      ]
    },
    {
      "cell_type": "markdown",
      "metadata": {
        "id": "mTs-69v0f4qG"
      },
      "source": [
        "**Bình luận**:"
      ]
    }
  ]
}
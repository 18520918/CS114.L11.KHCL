{
  "nbformat": 4,
  "nbformat_minor": 0,
  "metadata": {
    "colab": {
      "name": "Untitled0.ipynb",
      "provenance": [],
      "authorship_tag": "ABX9TyOAmn+KvyA6c/2M+3a6QlBt",
      "include_colab_link": true
    },
    "kernelspec": {
      "name": "python3",
      "display_name": "Python 3"
    }
  },
  "cells": [
    {
      "cell_type": "markdown",
      "metadata": {
        "id": "view-in-github",
        "colab_type": "text"
      },
      "source": [
        "<a href=\"https://colab.research.google.com/github/18520918/CS114.L11.KHCL/blob/master/Assignment%203/Multiple_Linear_Regression.ipynb\" target=\"_parent\"><img src=\"https://colab.research.google.com/assets/colab-badge.svg\" alt=\"Open In Colab\"/></a>"
      ]
    },
    {
      "cell_type": "code",
      "metadata": {
        "id": "m0Xs2rvxzVBk"
      },
      "source": [
        "import pandas as pd \n",
        "import numpy as np \n",
        "from itertools import combinations \n",
        "from sklearn.linear_model import LinearRegression \n",
        "from sklearn.metrics import mean_squared_error \n",
        "from operator import  add\n",
        "import timeit"
      ],
      "execution_count": 23,
      "outputs": []
    },
    {
      "cell_type": "code",
      "metadata": {
        "id": "28gnA_yv0-aj"
      },
      "source": [
        "import io\n",
        "from google.colab import files"
      ],
      "execution_count": 3,
      "outputs": []
    },
    {
      "cell_type": "code",
      "metadata": {
        "id": "c6M0OrJT1J-f",
        "outputId": "4e2005ae-60f3-4ae4-b550-6f07b4f6313c",
        "colab": {
          "resources": {
            "http://localhost:8080/nbextensions/google.colab/files.js": {
              "data": "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",
              "ok": true,
              "headers": [
                [
                  "content-type",
                  "application/javascript"
                ]
              ],
              "status": 200,
              "status_text": ""
            }
          },
          "base_uri": "https://localhost:8080/",
          "height": 108
        }
      },
      "source": [
        "uploaded = files.upload()"
      ],
      "execution_count": 12,
      "outputs": [
        {
          "output_type": "display_data",
          "data": {
            "text/html": [
              "\n",
              "     <input type=\"file\" id=\"files-425b00e1-1655-4b94-90ff-64fea9244837\" name=\"files[]\" multiple disabled\n",
              "        style=\"border:none\" />\n",
              "     <output id=\"result-425b00e1-1655-4b94-90ff-64fea9244837\">\n",
              "      Upload widget is only available when the cell has been executed in the\n",
              "      current browser session. Please rerun this cell to enable.\n",
              "      </output>\n",
              "      <script src=\"/nbextensions/google.colab/files.js\"></script> "
            ],
            "text/plain": [
              "<IPython.core.display.HTML object>"
            ]
          },
          "metadata": {
            "tags": []
          }
        },
        {
          "output_type": "stream",
          "text": [
            "Saving BostonTest.csv to BostonTest.csv\n",
            "Saving BostonTrain.csv to BostonTrain (1).csv\n"
          ],
          "name": "stdout"
        }
      ]
    },
    {
      "cell_type": "code",
      "metadata": {
        "id": "Kxy4E4nW1N9A"
      },
      "source": [
        "train = pd.read_csv(io.BytesIO(uploaded['BostonTrain.csv']))\n",
        "test = pd.read_csv(io.BytesIO(uploaded['BostonTest.csv']))"
      ],
      "execution_count": 13,
      "outputs": []
    },
    {
      "cell_type": "code",
      "metadata": {
        "id": "-bA4Yp_p1ivr"
      },
      "source": [
        "def features_data(data):\n",
        "  features = data.drop('MEDV',axis=1)\n",
        "  return features\n",
        "def labels_data(data):\n",
        "  labels = data['MEDV']\n",
        "  return labels"
      ],
      "execution_count": 14,
      "outputs": []
    },
    {
      "cell_type": "code",
      "metadata": {
        "id": "qQ_VYKeT2-t0"
      },
      "source": [
        "features_train = features_data(train)\n",
        "features_test = features_data(test)\n",
        "labels_train = labels_data(train)\n",
        "labels_test = labels_data(test)"
      ],
      "execution_count": 15,
      "outputs": []
    },
    {
      "cell_type": "code",
      "metadata": {
        "id": "QnEOhvsc2e3o"
      },
      "source": [
        "\n",
        "def combination(arr):\n",
        "  return list(combinations(arr,10))\n",
        "attributes = combination(features_train.columns)\n",
        "list_attributes = []"
      ],
      "execution_count": 16,
      "outputs": []
    },
    {
      "cell_type": "code",
      "metadata": {
        "id": "U_dJQUMx3upm"
      },
      "source": [
        "for i in range(len(attributes)):\n",
        "  a = list(attributes[i])\n",
        "  list_attributes.append(a)"
      ],
      "execution_count": 17,
      "outputs": []
    },
    {
      "cell_type": "code",
      "metadata": {
        "id": "H0Bake2Q4HA8"
      },
      "source": [
        "list_kq = []\n",
        "for i in range(len(list_attributes)):\n",
        "  data_train = features_train[list_attributes[i]]\n",
        "  data_test = features_test[list_attributes[i]]\n",
        "  model = LinearRegression().fit(data_train,labels_train)\n",
        "  y_pred = model.predict(data_test)\n",
        "  mse = mean_squared_error(labels_test,y_pred)\n",
        "  list_kq.append(mse)"
      ],
      "execution_count": 26,
      "outputs": []
    },
    {
      "cell_type": "code",
      "metadata": {
        "id": "SfBUH5mg42ZN",
        "outputId": "48335e71-9e9f-49b0-f0aa-7e9761f20ff4",
        "colab": {
          "base_uri": "https://localhost:8080/"
        }
      },
      "source": [
        "print(list_kq)"
      ],
      "execution_count": 27,
      "outputs": [
        {
          "output_type": "stream",
          "text": [
            "[57.56474082309142, 55.5885713029273, 71.85353345934328, 40.29373015142279, 39.842178290122824, 51.004154597618324, 30.49435896820321, 35.73108474370739, 24.67667611694037, 31.36337908121286, 61.61861111142125, 78.92764592035259, 45.891903878331036, 66.54854666935304, 42.767798078938256, 46.66696510214205, 42.343209999991416, 29.85769249133922, 32.992649892259514, 24.714187024931547, 54.314155562930665, 75.62304938010418, 38.97452558558459, 64.06976881309502, 37.12375404024843, 42.41601537242473, 41.171581019484414, 26.119004818540954, 29.7444676900714, 22.180489403589586, 68.95714847401186, 43.84865057856438, 49.57344599407306, 41.154810879210274, 26.540560836408215, 28.019970862639738, 25.406956685678207, 23.575544175033933, 21.694888225012946, 20.45705232101553, 20.89305956983914, 17.890722236481967, 17.53081189010536, 22.14070857389384, 19.866141287496482, 21.723601804867975, 25.184410959492382, 26.35692608842124, 20.978833352406046, 25.748209228946365, 22.821533096925208, 20.82365617420024, 21.207293685372033, 16.934446852731018, 18.784718780731154, 21.676144382771906, 56.144898037105904, 67.671637201026, 39.58726824780255, 53.60575533551185, 37.975140592183955, 39.27806850230095, 38.1450616555284, 27.68457479608345, 29.052966665365346, 23.43919904716944, 63.30567637205239, 42.3477158815958, 50.97630810392228, 36.70980853206674, 25.80705737882228, 55.282934949641714, 37.38315440391423, 40.843216211915966, 31.51346508556997, 23.43585522937729, 41.04553002085269, 23.400690776469485, 22.95345997151916, 22.551941182114, 21.95278491743557, 25.695919988508365, 23.955618574383667, 20.767983281562667, 58.92223039947253, 81.2183320626726, 42.95191568637124, 69.38527711382824, 40.973955317658685, 48.16196610768365, 44.656550292538306, 28.547542788588174, 32.77914914254261, 23.916613890610584, 74.61599020761216, 45.391459689385115, 53.21759842926275, 43.85448925972825, 27.97820204677387, 71.32183552673487, 39.42990277890055, 48.380940008267814, 40.62453232090162, 25.60310365807159, 46.70186974469415, 26.3210201737961, 23.516243899106016, 24.041953713519046, 19.462226516258234, 20.003407039640496, 23.88653738509118, 19.538414735264023, 61.29267334326241, 40.35790861236108, 45.870451636507426, 35.41193578266151, 25.22823627787564, 42.263698792640675, 36.36827588596939, 22.486311530856703, 54.16491745487556, 74.92982545650983, 39.18764954148216, 64.22125894493234, 37.40867908204468, 44.202641322351944, 40.96376357035735, 26.36419907080058, 30.063484860900516, 22.293644675655322, 67.21536851305788, 40.538265556389156, 47.5287781487479, 38.79728506956712, 25.76349766007262, 65.90315208504177, 35.60829097121866, 43.86286594768707, 36.7911728211046, 23.57292063810287, 41.69185488719909, 22.882609012210278, 21.404289795208026, 22.139888009755317, 18.59859835301914, 20.656784924936282, 21.952796759635003, 17.850971755913196, 56.9229023367336, 37.852621891535335, 41.55843824146434, 33.16464728965847, 23.791898597180825, 39.092035328152335, 33.704204152079505, 22.617371415952793, 70.13295113202658, 38.438370701581114, 48.44386439069385, 40.55390095641079, 25.628150150800032, 43.8153071307138, 40.81831434516252, 20.11332930688046, 36.84242118003281, 55.48166130824612, 78.5853734447657, 42.39996356946427, 64.25487956503727, 38.12601472605928, 47.07289841474555, 41.84161141671942, 27.048948784757563, 34.403102540756656, 21.975652282688095, 68.76595012429142, 42.229152424676435, 50.28506159777681, 39.63651484258563, 25.870077898798552, 67.57963239005716, 37.63826938686792, 48.188567820240706, 37.82900116273671, 24.29010810993193, 42.936584501788396, 22.059720231516938, 21.708576611907613, 22.999983329797608, 17.751198220056956, 19.18243958624259, 21.88546864689878, 18.135456290903566, 57.31546059144909, 39.04526721036195, 46.55361211506406, 33.17164320472908, 24.187708716000685, 39.036667901113184, 34.450752893688076, 22.174987238650637, 71.88342730917343, 40.877127620998436, 54.07235387988037, 41.95868981237071, 26.6185665846839, 45.091737485925286, 42.88405912040659, 20.47387475813007, 38.10837643763473, 66.28772473101641, 37.100566786012195, 49.515934815957365, 38.199606961032586, 24.55315059212586, 40.248590362175044, 38.867362621307834, 18.914037304459676, 35.3945134540835, 42.43331922616257, 49.82712097949321, 71.85860724188929, 37.32423390505423, 59.38140451397026, 34.52946097748513, 39.84176415341778, 44.166419945835486, 26.658776978238798, 30.80446165362853, 23.755861697848808, 64.82378749499397, 39.67301559181493, 45.851352971767675, 35.98321717995163, 25.79034139762887, 64.38747141540208, 34.530550853577815, 42.0949115232304, 33.629515553972844, 24.01953684397822, 39.712417501028824, 26.388537568931792, 23.31980545873941, 23.451585329989157, 18.40522146066296, 19.75305254099623, 22.859153112739367, 19.054519206977478, 52.939602864663904, 35.782610208431926, 39.69881025572178, 28.83436427854227, 23.558419735010947, 36.40495191044329, 31.738646477884515, 22.458504320680046, 69.21212513598157, 37.488184025114094, 46.77816372155217, 37.44079253412737, 26.103917289570358, 42.167166568348506, 39.50717994790117, 21.699565950884395, 34.73926684463903, 62.7073837141349, 33.90779875799787, 42.20257863403635, 33.75886105464496, 24.00763829935394, 37.884852380389745, 35.62398764987908, 19.957004040506465, 31.911967333002973, 38.95789145848865, 63.31292127519601, 35.458753857747574, 46.22751153801312, 34.692881561737124, 24.75563374745722, 38.83538489587238, 37.01759764693558, 19.724954145384977, 32.629443177913785, 40.59554596453513, 36.700003272859625]\n"
          ],
          "name": "stdout"
        }
      ]
    },
    {
      "cell_type": "code",
      "metadata": {
        "id": "B7YqhKeF48Mt"
      },
      "source": [
        "for i in range(len(list_attributes)):\n",
        "  list_attribute = list_attributes*1\n",
        "  list_attribute[i].insert(len(list_attributes),list_kq[i])"
      ],
      "execution_count": 29,
      "outputs": []
    },
    {
      "cell_type": "code",
      "metadata": {
        "id": "PEarHZzj5E3-"
      },
      "source": [
        "list_sorted = sorted(list_attribute,key=lambda x:x[-1], reverse=True)"
      ],
      "execution_count": 30,
      "outputs": []
    },
    {
      "cell_type": "code",
      "metadata": {
        "id": "ZuDH_fK65L3u",
        "outputId": "ee14ffd5-919d-46a1-920a-ec434f5cd2e0",
        "colab": {
          "base_uri": "https://localhost:8080/"
        }
      },
      "source": [
        "list_top_5 = list_sorted[:5]\n",
        "for i in range(5):\n",
        "  print(list_sorted[i][:10])\n",
        "  print('Top {} voi MSE bang {}:'.format(i+1,list_kq[i]))"
      ],
      "execution_count": 33,
      "outputs": [
        {
          "output_type": "stream",
          "text": [
            "['CRIM', 'ZN', 'INDUS', 'NOX', 'RM', 'AGE', 'DIS', 'RAD', 'TAX', 'B']\n",
            "Top 1 voi MSE bang 57.56474082309142:\n",
            "['CRIM', 'ZN', 'INDUS', 'CHAS', 'NOX', 'RM', 'AGE', 'RAD', 'TAX', 'B']\n",
            "Top 2 voi MSE bang 55.5885713029273:\n",
            "['CRIM', 'INDUS', 'CHAS', 'NOX', 'RM', 'AGE', 'DIS', 'RAD', 'TAX', 'B']\n",
            "Top 3 voi MSE bang 71.85353345934328:\n",
            "['CRIM', 'ZN', 'INDUS', 'CHAS', 'NOX', 'RM', 'DIS', 'RAD', 'TAX', 'B']\n",
            "Top 4 voi MSE bang 40.29373015142279:\n",
            "['CRIM', 'ZN', 'CHAS', 'NOX', 'RM', 'AGE', 'DIS', 'RAD', 'TAX', 'B']\n",
            "Top 5 voi MSE bang 39.842178290122824:\n"
          ],
          "name": "stdout"
        }
      ]
    },
    {
      "cell_type": "code",
      "metadata": {
        "id": "1mVB1TZY5av2"
      },
      "source": [
        ""
      ],
      "execution_count": null,
      "outputs": []
    },
    {
      "cell_type": "code",
      "metadata": {
        "id": "syBNKgFi7CBG"
      },
      "source": [
        ""
      ],
      "execution_count": null,
      "outputs": []
    }
  ]
}